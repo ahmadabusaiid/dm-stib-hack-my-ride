{
 "cells": [
  {
   "cell_type": "markdown",
   "id": "af22ce64-a725-48fd-8da0-2d271b1ac525",
   "metadata": {},
   "source": [
    "# **STIB-MIVB Schedule: Preprocessing & DB Setup + Load**"
   ]
  },
  {
   "cell_type": "code",
   "execution_count": 1,
   "id": "4832606c-38ac-4a84-b1b2-39a8cbabd39c",
   "metadata": {},
   "outputs": [],
   "source": [
    "import numpy as np\n",
    "import pandas as pd\n",
    "import geopandas as gpd\n",
    "import gtfs_kit as gk\n",
    "import psycopg2\n",
    "import psycopg2.extras as extras\n",
    "from IPython.display import display, HTML\n",
    "from psycopg2 import Error\n",
    "from psycopg2.extensions import ISOLATION_LEVEL_AUTOCOMMIT"
   ]
  },
  {
   "cell_type": "markdown",
   "id": "8a0529dc-2b22-41d9-b874-88808ef1e57c",
   "metadata": {},
   "source": [
    "## 1. Load Data"
   ]
  },
  {
   "cell_type": "code",
   "execution_count": 2,
   "id": "0d72d7e1-3995-4f6f-b464-55cbd4b66600",
   "metadata": {},
   "outputs": [],
   "source": [
    "# get path of gtfs files\n",
    "\n",
    "path1 = 'stib_data/schedule/03_Sep'\n",
    "path2 = 'stib_data/schedule/23_Sep'"
   ]
  },
  {
   "cell_type": "code",
   "execution_count": 3,
   "id": "925f5e42-7fc0-480b-a981-bc0160ae9a63",
   "metadata": {},
   "outputs": [
    {
     "data": {
      "text/html": [
       "<div>\n",
       "<style scoped>\n",
       "    .dataframe tbody tr th:only-of-type {\n",
       "        vertical-align: middle;\n",
       "    }\n",
       "\n",
       "    .dataframe tbody tr th {\n",
       "        vertical-align: top;\n",
       "    }\n",
       "\n",
       "    .dataframe thead th {\n",
       "        text-align: right;\n",
       "    }\n",
       "</style>\n",
       "<table border=\"1\" class=\"dataframe\">\n",
       "  <thead>\n",
       "    <tr style=\"text-align: right;\">\n",
       "      <th></th>\n",
       "      <th>file_name</th>\n",
       "      <th>file_size</th>\n",
       "    </tr>\n",
       "  </thead>\n",
       "  <tbody>\n",
       "    <tr>\n",
       "      <th>0</th>\n",
       "      <td>agency.txt</td>\n",
       "      <td>148</td>\n",
       "    </tr>\n",
       "    <tr>\n",
       "      <th>1</th>\n",
       "      <td>calendar.txt</td>\n",
       "      <td>18880</td>\n",
       "    </tr>\n",
       "    <tr>\n",
       "      <th>2</th>\n",
       "      <td>calendar_dates.txt</td>\n",
       "      <td>6874</td>\n",
       "    </tr>\n",
       "    <tr>\n",
       "      <th>3</th>\n",
       "      <td>routes.txt</td>\n",
       "      <td>5189</td>\n",
       "    </tr>\n",
       "    <tr>\n",
       "      <th>4</th>\n",
       "      <td>shapes.txt</td>\n",
       "      <td>14890589</td>\n",
       "    </tr>\n",
       "    <tr>\n",
       "      <th>5</th>\n",
       "      <td>stops.txt</td>\n",
       "      <td>153717</td>\n",
       "    </tr>\n",
       "    <tr>\n",
       "      <th>6</th>\n",
       "      <td>stop_times.txt</td>\n",
       "      <td>140458620</td>\n",
       "    </tr>\n",
       "    <tr>\n",
       "      <th>7</th>\n",
       "      <td>translations.txt</td>\n",
       "      <td>78184</td>\n",
       "    </tr>\n",
       "    <tr>\n",
       "      <th>8</th>\n",
       "      <td>trips.txt</td>\n",
       "      <td>8799054</td>\n",
       "    </tr>\n",
       "  </tbody>\n",
       "</table>\n",
       "</div>"
      ],
      "text/plain": [
       "            file_name  file_size\n",
       "0          agency.txt        148\n",
       "1        calendar.txt      18880\n",
       "2  calendar_dates.txt       6874\n",
       "3          routes.txt       5189\n",
       "4          shapes.txt   14890589\n",
       "5           stops.txt     153717\n",
       "6      stop_times.txt  140458620\n",
       "7    translations.txt      78184\n",
       "8           trips.txt    8799054"
      ]
     },
     "execution_count": 3,
     "metadata": {},
     "output_type": "execute_result"
    }
   ],
   "source": [
    "# check list of available files in feed\n",
    "\n",
    "gk.list_feed(path1)"
   ]
  },
  {
   "cell_type": "code",
   "execution_count": 4,
   "id": "a9df85d5-382c-4427-a23e-d1da1be560fe",
   "metadata": {},
   "outputs": [],
   "source": [
    "# load files as gtfs feed\n",
    "\n",
    "sched1 = gk.read_feed(path1, dist_units = 'm')\n",
    "sched2 = gk.read_feed(path2, dist_units = 'm')"
   ]
  },
  {
   "cell_type": "markdown",
   "id": "b8881ef1-178e-4231-ac37-2ddc4a44fa9d",
   "metadata": {},
   "source": [
    "## 2. Preprocess Data"
   ]
  },
  {
   "cell_type": "code",
   "execution_count": 5,
   "id": "80ed69e8-9b74-43ba-af12-ab5d1586db1d",
   "metadata": {},
   "outputs": [],
   "source": [
    "# sched1.validate()"
   ]
  },
  {
   "cell_type": "code",
   "execution_count": 6,
   "id": "9265bb88-c778-4986-88cb-7b96d3933748",
   "metadata": {},
   "outputs": [],
   "source": [
    "# sched2.validate()"
   ]
  },
  {
   "cell_type": "code",
   "execution_count": 7,
   "id": "d12f5288-0537-4751-bea2-5731bc6b004c",
   "metadata": {},
   "outputs": [],
   "source": [
    "# function for preprocessing trips\n",
    "# includes column rename and updating trip direction to align with shapefile data\n",
    "\n",
    "def trips_preprocess(feed):\n",
    "    feed.trips = feed.trips.rename(\n",
    "        columns = {\n",
    "            'direction_id': 'direction'\n",
    "        }\n",
    "    )\n",
    "    feed.trips.direction = feed.trips.direction + 1"
   ]
  },
  {
   "cell_type": "code",
   "execution_count": 8,
   "id": "d84a69c0-765a-4789-883c-c299ba139d89",
   "metadata": {},
   "outputs": [],
   "source": [
    "# apply trips preprocessing\n",
    "\n",
    "trips_preprocess(sched1)\n",
    "trips_preprocess(sched2)"
   ]
  },
  {
   "cell_type": "code",
   "execution_count": 9,
   "id": "8b4f3823-13e7-4633-ab39-25aca4c15e87",
   "metadata": {},
   "outputs": [],
   "source": [
    "# function for preprocessing routes\n",
    "# includes column rename, column drop, mapping of vehicle type, adding extra derived column, prepend hash symbol for colour columns\n",
    "\n",
    "def routes_preprocess(feed):\n",
    "    feed.routes = feed.routes.rename(\n",
    "        columns = {\n",
    "            'route_short_name': 'line',\n",
    "            'route_long_name': 'line_name',\n",
    "            'route_type': 'vehicle',\n",
    "            'route_color': 'route_color_hex',\n",
    "            'route_text_color': 'route_text_color_hex',\n",
    "        }\n",
    "    ).drop(\n",
    "        columns = ['route_desc', 'route_url']\n",
    "    )\n",
    "    \n",
    "    for index, row in feed.routes.iterrows():\n",
    "        if row['vehicle'] == 3:\n",
    "            feed.routes.at[index,'vehicle'] = 'BUS'\n",
    "        elif row['vehicle'] == 0:\n",
    "            feed.routes.at[index,'vehicle'] = 'TRAM'\n",
    "        elif row['vehicle'] == 1:\n",
    "            feed.routes.at[index,'vehicle'] = 'METRO'\n",
    "        else:\n",
    "            pass\n",
    "    \n",
    "    feed.routes['line_desc'] = feed.routes.line + ' (' + feed.routes.line_name + ')'\n",
    "\n",
    "    feed.routes.route_color_hex = '#' + feed.routes.route_color_hex\n",
    "    feed.routes.route_text_color_hex = '#' + feed.routes.route_text_color_hex"
   ]
  },
  {
   "cell_type": "code",
   "execution_count": 10,
   "id": "8fc0b24b-105c-4220-8c8a-ae1d26b84e7e",
   "metadata": {},
   "outputs": [],
   "source": [
    "# apply routes preprocessing\n",
    "\n",
    "routes_preprocess(sched1)\n",
    "routes_preprocess(sched2)"
   ]
  },
  {
   "cell_type": "code",
   "execution_count": 11,
   "id": "d2577634-dacf-41c7-a13b-02113b174ce4",
   "metadata": {},
   "outputs": [],
   "source": [
    "# function for preprocessing stop times\n",
    "# includes adding an extra derived column, to deal with arrival time going beyond 24:00:00 due to midnight schedule indication\n",
    "\n",
    "def stop_times_preprocess(feed):\n",
    "    feed.stop_times['arrival_time_norm'] = feed.stop_times['arrival_time'].apply(\n",
    "        lambda x: str(\"{0:0=2d}\".format(int(x[:2]) - 24)) + x[2:] if int(x[:2]) >= 24 else x\n",
    "    )"
   ]
  },
  {
   "cell_type": "code",
   "execution_count": 12,
   "id": "71fff117-741a-46af-b8a1-2d1c9cd8113b",
   "metadata": {},
   "outputs": [],
   "source": [
    "# apply stop times preprocessing\n",
    "\n",
    "stop_times_preprocess(sched1)\n",
    "stop_times_preprocess(sched2)"
   ]
  },
  {
   "cell_type": "code",
   "execution_count": 13,
   "id": "5d98e050-af64-4c66-b021-517b26e5b11c",
   "metadata": {},
   "outputs": [],
   "source": [
    "# function for preprocessing stops\n",
    "# includes column drop\n",
    "\n",
    "def stops_preprocess(feed):\n",
    "    feed.stops = feed.stops.drop(\n",
    "        columns = [\n",
    "            'stop_code', \n",
    "            'stop_desc', \n",
    "            'zone_id', \n",
    "            'stop_url'\n",
    "        ]\n",
    "    )"
   ]
  },
  {
   "cell_type": "code",
   "execution_count": 14,
   "id": "121c9830-0e50-4361-bad3-423819773bdb",
   "metadata": {},
   "outputs": [],
   "source": [
    "# apply stops preprocessing\n",
    "\n",
    "stops_preprocess(sched1)\n",
    "stops_preprocess(sched2)"
   ]
  },
  {
   "cell_type": "code",
   "execution_count": 15,
   "id": "61e02654-21d7-40d9-8c61-cf2fd735b5d3",
   "metadata": {},
   "outputs": [
    {
     "data": {
      "text/html": [
       "<div>\n",
       "<style scoped>\n",
       "    .dataframe tbody tr th:only-of-type {\n",
       "        vertical-align: middle;\n",
       "    }\n",
       "\n",
       "    .dataframe tbody tr th {\n",
       "        vertical-align: top;\n",
       "    }\n",
       "\n",
       "    .dataframe thead th {\n",
       "        text-align: right;\n",
       "    }\n",
       "</style>\n",
       "<table border=\"1\" class=\"dataframe\">\n",
       "  <thead>\n",
       "    <tr style=\"text-align: right;\">\n",
       "      <th></th>\n",
       "      <th>monday</th>\n",
       "      <th>tuesday</th>\n",
       "      <th>wednesday</th>\n",
       "      <th>thursday</th>\n",
       "      <th>friday</th>\n",
       "      <th>saturday</th>\n",
       "      <th>sunday</th>\n",
       "    </tr>\n",
       "  </thead>\n",
       "  <tbody>\n",
       "    <tr>\n",
       "      <th>0</th>\n",
       "      <td>1</td>\n",
       "      <td>1</td>\n",
       "      <td>1</td>\n",
       "      <td>1</td>\n",
       "      <td>1</td>\n",
       "      <td>0</td>\n",
       "      <td>0</td>\n",
       "    </tr>\n",
       "    <tr>\n",
       "      <th>1</th>\n",
       "      <td>0</td>\n",
       "      <td>0</td>\n",
       "      <td>0</td>\n",
       "      <td>0</td>\n",
       "      <td>0</td>\n",
       "      <td>1</td>\n",
       "      <td>0</td>\n",
       "    </tr>\n",
       "    <tr>\n",
       "      <th>2</th>\n",
       "      <td>0</td>\n",
       "      <td>0</td>\n",
       "      <td>0</td>\n",
       "      <td>0</td>\n",
       "      <td>0</td>\n",
       "      <td>0</td>\n",
       "      <td>1</td>\n",
       "    </tr>\n",
       "  </tbody>\n",
       "</table>\n",
       "</div>"
      ],
      "text/plain": [
       "   monday  tuesday  wednesday  thursday  friday  saturday  sunday\n",
       "0       1        1          1         1       1         0       0\n",
       "1       0        0          0         0       0         1       0\n",
       "2       0        0          0         0       0         0       1"
      ]
     },
     "execution_count": 15,
     "metadata": {},
     "output_type": "execute_result"
    }
   ],
   "source": [
    "# identify the distinct groups for scheduled day types\n",
    "\n",
    "sched1.calendar[['monday', 'tuesday', 'wednesday', 'thursday', 'friday', 'saturday', 'sunday']].drop_duplicates()"
   ]
  },
  {
   "cell_type": "code",
   "execution_count": 16,
   "id": "356bb2f6-fe30-4fa4-a47b-35bce40f3dca",
   "metadata": {},
   "outputs": [],
   "source": [
    "# function for preprocessing calendar\n",
    "# includes mapping of day type, column drop, conversion of date columns to standard format\n",
    "\n",
    "def calendar_preprocess(feed):\n",
    "    feed.calendar['day_category'] = ''\n",
    "    \n",
    "    for index, row in feed.calendar.iterrows():\n",
    "        if (row['saturday'] == 1) & (row['sunday'] == 0):\n",
    "            feed.calendar.at[index,'day_category'] = 'Saturday'\n",
    "        elif (row['saturday'] == 0) & (row['sunday'] == 1):\n",
    "            feed.calendar.at[index,'day_category'] = 'Sunday'\n",
    "        else:\n",
    "            feed.calendar.at[index,'day_category'] = 'Weekday'\n",
    "    \n",
    "    feed.calendar = feed.calendar.drop(\n",
    "        columns = [\n",
    "            'monday', \n",
    "            'tuesday', \n",
    "            'wednesday', \n",
    "            'thursday',\n",
    "            'friday',\n",
    "            'saturday',\n",
    "            'sunday'\n",
    "        ]\n",
    "    )\n",
    "    \n",
    "    feed.calendar.start_date = pd.to_datetime(feed.calendar.start_date, format = '%Y%m%d')\n",
    "    feed.calendar.end_date = pd.to_datetime(feed.calendar.start_date, format = '%Y%m%d')"
   ]
  },
  {
   "cell_type": "code",
   "execution_count": 17,
   "id": "01c77068-d496-4aa3-9ad9-24d8545a8061",
   "metadata": {},
   "outputs": [],
   "source": [
    "# apply calendar preprocessing\n",
    "\n",
    "calendar_preprocess(sched1)\n",
    "calendar_preprocess(sched2)"
   ]
  },
  {
   "cell_type": "code",
   "execution_count": 18,
   "id": "f753aedb-d96b-4a77-b814-137d3fd67ae4",
   "metadata": {},
   "outputs": [],
   "source": [
    "# function for preprocessing calendar date exceptions\n",
    "# includes mapping of exception type, conversion of date column to standard format\n",
    "\n",
    "def calendar_dates_preprocess(feed):\n",
    "    for index, row in feed.calendar_dates.iterrows():\n",
    "        if row['exception_type'] == 1:\n",
    "            feed.calendar_dates.at[index,'exception_type'] = 'Added'\n",
    "        elif row['exception_type'] == 2:\n",
    "            feed.calendar_dates.at[index,'exception_type'] = 'Removed'\n",
    "        else:\n",
    "            pass\n",
    "    \n",
    "    feed.calendar_dates.date = pd.to_datetime(feed.calendar_dates.date, format = '%Y%m%d')"
   ]
  },
  {
   "cell_type": "code",
   "execution_count": 19,
   "id": "9caad90a-370c-4473-b464-6d0430b5f84f",
   "metadata": {},
   "outputs": [],
   "source": [
    "# apply calendar date exceptions preprocessing\n",
    "\n",
    "calendar_dates_preprocess(sched1)\n",
    "calendar_dates_preprocess(sched2)"
   ]
  },
  {
   "cell_type": "code",
   "execution_count": 20,
   "id": "f3285908-b947-4b11-b7a0-f43e5962acd3",
   "metadata": {},
   "outputs": [
    {
     "data": {
      "text/plain": [
       "route_id                0\n",
       "line                    0\n",
       "line_name               0\n",
       "vehicle                 0\n",
       "route_color_hex         1\n",
       "route_text_color_hex    0\n",
       "line_desc               0\n",
       "dtype: int64"
      ]
     },
     "execution_count": 20,
     "metadata": {},
     "output_type": "execute_result"
    }
   ],
   "source": [
    "# check for null on route columns\n",
    "# other columns dont have issues after preprocessing done above\n",
    "\n",
    "sched1.routes.isna().sum()"
   ]
  },
  {
   "cell_type": "code",
   "execution_count": 21,
   "id": "76da3ca4-ba3e-493b-a195-d9ed6e03da9c",
   "metadata": {},
   "outputs": [],
   "source": [
    "# update hex colour to white for the null value\n",
    "\n",
    "sched1.routes.at[sched1.routes.index[sched1.routes.route_color_hex.isnull()].tolist()[0],'route_color_hex'] = '#FFFFFF'"
   ]
  },
  {
   "cell_type": "code",
   "execution_count": 22,
   "id": "07c05b0c-2260-4838-9bf4-eb95ff1059e4",
   "metadata": {},
   "outputs": [
    {
     "data": {
      "text/plain": [
       "route_id                0\n",
       "line                    0\n",
       "line_name               0\n",
       "vehicle                 0\n",
       "route_color_hex         0\n",
       "route_text_color_hex    0\n",
       "line_desc               0\n",
       "dtype: int64"
      ]
     },
     "execution_count": 22,
     "metadata": {},
     "output_type": "execute_result"
    }
   ],
   "source": [
    "# confirm no more nulls on route data\n",
    "\n",
    "sched1.routes.isna().sum()"
   ]
  },
  {
   "cell_type": "code",
   "execution_count": 23,
   "id": "2a89f5fd-63f7-4d4a-80ad-63254b859b31",
   "metadata": {},
   "outputs": [
    {
     "name": "stdout",
     "output_type": "stream",
     "text": [
      "\n",
      "Schedule 1: Min & Max Dates\n",
      "2021-08-23 00:00:00\n",
      "2021-09-19 00:00:00\n",
      "\n",
      "Schedule 2: Min & Max Dates\n",
      "2021-09-20 00:00:00\n",
      "2021-10-17 00:00:00\n",
      "\n",
      "\n"
     ]
    }
   ],
   "source": [
    "# check the min and max dates for both of the gtfs feeds\n",
    "\n",
    "print('\\nSchedule 1: Min & Max Dates')\n",
    "print(sched1.calendar.start_date.min())\n",
    "print(sched1.calendar.end_date.max())\n",
    "\n",
    "print('\\nSchedule 2: Min & Max Dates')\n",
    "print(sched2.calendar.start_date.min())\n",
    "print(sched2.calendar.end_date.max())\n",
    "print('\\n')"
   ]
  },
  {
   "cell_type": "code",
   "execution_count": 24,
   "id": "d02c3732-b446-4c81-a3a3-9330a4739f30",
   "metadata": {},
   "outputs": [
    {
     "name": "stdout",
     "output_type": "stream",
     "text": [
      "\n",
      "Trips\n"
     ]
    },
    {
     "data": {
      "text/html": [
       "<div>\n",
       "<style scoped>\n",
       "    .dataframe tbody tr th:only-of-type {\n",
       "        vertical-align: middle;\n",
       "    }\n",
       "\n",
       "    .dataframe tbody tr th {\n",
       "        vertical-align: top;\n",
       "    }\n",
       "\n",
       "    .dataframe thead th {\n",
       "        text-align: right;\n",
       "    }\n",
       "</style>\n",
       "<table border=\"1\" class=\"dataframe\">\n",
       "  <thead>\n",
       "    <tr style=\"text-align: right;\">\n",
       "      <th></th>\n",
       "      <th>route_id</th>\n",
       "      <th>service_id</th>\n",
       "      <th>trip_id</th>\n",
       "      <th>trip_headsign</th>\n",
       "      <th>direction</th>\n",
       "      <th>block_id</th>\n",
       "      <th>shape_id</th>\n",
       "    </tr>\n",
       "  </thead>\n",
       "  <tbody>\n",
       "    <tr>\n",
       "      <th>0</th>\n",
       "      <td>24</td>\n",
       "      <td>235954071</td>\n",
       "      <td>112387248235954071</td>\n",
       "      <td>SIMONIS</td>\n",
       "      <td>2</td>\n",
       "      <td>8902800</td>\n",
       "      <td>087b0196</td>\n",
       "    </tr>\n",
       "    <tr>\n",
       "      <th>1</th>\n",
       "      <td>24</td>\n",
       "      <td>235954071</td>\n",
       "      <td>112387249235954071</td>\n",
       "      <td>SIMONIS</td>\n",
       "      <td>2</td>\n",
       "      <td>8902802</td>\n",
       "      <td>087b0196</td>\n",
       "    </tr>\n",
       "    <tr>\n",
       "      <th>2</th>\n",
       "      <td>24</td>\n",
       "      <td>235954071</td>\n",
       "      <td>112387253235954071</td>\n",
       "      <td>SIMONIS</td>\n",
       "      <td>2</td>\n",
       "      <td>8902801</td>\n",
       "      <td>087b0196</td>\n",
       "    </tr>\n",
       "  </tbody>\n",
       "</table>\n",
       "</div>"
      ],
      "text/plain": [
       "  route_id service_id             trip_id trip_headsign  direction block_id  \\\n",
       "0       24  235954071  112387248235954071       SIMONIS          2  8902800   \n",
       "1       24  235954071  112387249235954071       SIMONIS          2  8902802   \n",
       "2       24  235954071  112387253235954071       SIMONIS          2  8902801   \n",
       "\n",
       "   shape_id  \n",
       "0  087b0196  \n",
       "1  087b0196  \n",
       "2  087b0196  "
      ]
     },
     "metadata": {},
     "output_type": "display_data"
    },
    {
     "name": "stdout",
     "output_type": "stream",
     "text": [
      "\n",
      "Routes\n"
     ]
    },
    {
     "data": {
      "text/html": [
       "<div>\n",
       "<style scoped>\n",
       "    .dataframe tbody tr th:only-of-type {\n",
       "        vertical-align: middle;\n",
       "    }\n",
       "\n",
       "    .dataframe tbody tr th {\n",
       "        vertical-align: top;\n",
       "    }\n",
       "\n",
       "    .dataframe thead th {\n",
       "        text-align: right;\n",
       "    }\n",
       "</style>\n",
       "<table border=\"1\" class=\"dataframe\">\n",
       "  <thead>\n",
       "    <tr style=\"text-align: right;\">\n",
       "      <th></th>\n",
       "      <th>route_id</th>\n",
       "      <th>line</th>\n",
       "      <th>line_name</th>\n",
       "      <th>vehicle</th>\n",
       "      <th>route_color_hex</th>\n",
       "      <th>route_text_color_hex</th>\n",
       "      <th>line_desc</th>\n",
       "    </tr>\n",
       "  </thead>\n",
       "  <tbody>\n",
       "    <tr>\n",
       "      <th>0</th>\n",
       "      <td>2</td>\n",
       "      <td>1</td>\n",
       "      <td>GARE DE L'OUEST - STOCKEL</td>\n",
       "      <td>METRO</td>\n",
       "      <td>#C4008F</td>\n",
       "      <td>#FFFFFF</td>\n",
       "      <td>1 (GARE DE L'OUEST - STOCKEL)</td>\n",
       "    </tr>\n",
       "    <tr>\n",
       "      <th>1</th>\n",
       "      <td>4</td>\n",
       "      <td>2</td>\n",
       "      <td>SIMONIS - ELISABETH</td>\n",
       "      <td>METRO</td>\n",
       "      <td>#F57000</td>\n",
       "      <td>#FFFFFF</td>\n",
       "      <td>2 (SIMONIS - ELISABETH)</td>\n",
       "    </tr>\n",
       "    <tr>\n",
       "      <th>2</th>\n",
       "      <td>5</td>\n",
       "      <td>3</td>\n",
       "      <td>ESPLANADE - CHURCHILL</td>\n",
       "      <td>TRAM</td>\n",
       "      <td>#B5BA05</td>\n",
       "      <td>#000000</td>\n",
       "      <td>3 (ESPLANADE - CHURCHILL)</td>\n",
       "    </tr>\n",
       "  </tbody>\n",
       "</table>\n",
       "</div>"
      ],
      "text/plain": [
       "  route_id line                  line_name vehicle route_color_hex  \\\n",
       "0        2    1  GARE DE L'OUEST - STOCKEL   METRO         #C4008F   \n",
       "1        4    2        SIMONIS - ELISABETH   METRO         #F57000   \n",
       "2        5    3      ESPLANADE - CHURCHILL    TRAM         #B5BA05   \n",
       "\n",
       "  route_text_color_hex                      line_desc  \n",
       "0              #FFFFFF  1 (GARE DE L'OUEST - STOCKEL)  \n",
       "1              #FFFFFF        2 (SIMONIS - ELISABETH)  \n",
       "2              #000000      3 (ESPLANADE - CHURCHILL)  "
      ]
     },
     "metadata": {},
     "output_type": "display_data"
    },
    {
     "name": "stdout",
     "output_type": "stream",
     "text": [
      "\n",
      "Stop Times\n"
     ]
    },
    {
     "data": {
      "text/html": [
       "<div>\n",
       "<style scoped>\n",
       "    .dataframe tbody tr th:only-of-type {\n",
       "        vertical-align: middle;\n",
       "    }\n",
       "\n",
       "    .dataframe tbody tr th {\n",
       "        vertical-align: top;\n",
       "    }\n",
       "\n",
       "    .dataframe thead th {\n",
       "        text-align: right;\n",
       "    }\n",
       "</style>\n",
       "<table border=\"1\" class=\"dataframe\">\n",
       "  <thead>\n",
       "    <tr style=\"text-align: right;\">\n",
       "      <th></th>\n",
       "      <th>trip_id</th>\n",
       "      <th>arrival_time</th>\n",
       "      <th>departure_time</th>\n",
       "      <th>stop_id</th>\n",
       "      <th>stop_sequence</th>\n",
       "      <th>pickup_type</th>\n",
       "      <th>drop_off_type</th>\n",
       "      <th>arrival_time_norm</th>\n",
       "    </tr>\n",
       "  </thead>\n",
       "  <tbody>\n",
       "    <tr>\n",
       "      <th>0</th>\n",
       "      <td>112387248235954071</td>\n",
       "      <td>21:07:00</td>\n",
       "      <td>21:07:00</td>\n",
       "      <td>4014</td>\n",
       "      <td>1</td>\n",
       "      <td>0</td>\n",
       "      <td>0</td>\n",
       "      <td>21:07:00</td>\n",
       "    </tr>\n",
       "    <tr>\n",
       "      <th>1</th>\n",
       "      <td>112387248235954071</td>\n",
       "      <td>21:09:00</td>\n",
       "      <td>21:09:00</td>\n",
       "      <td>3231</td>\n",
       "      <td>2</td>\n",
       "      <td>0</td>\n",
       "      <td>0</td>\n",
       "      <td>21:09:00</td>\n",
       "    </tr>\n",
       "    <tr>\n",
       "      <th>2</th>\n",
       "      <td>112387248235954071</td>\n",
       "      <td>21:10:08</td>\n",
       "      <td>21:10:08</td>\n",
       "      <td>3232</td>\n",
       "      <td>3</td>\n",
       "      <td>0</td>\n",
       "      <td>0</td>\n",
       "      <td>21:10:08</td>\n",
       "    </tr>\n",
       "  </tbody>\n",
       "</table>\n",
       "</div>"
      ],
      "text/plain": [
       "              trip_id arrival_time departure_time stop_id  stop_sequence  \\\n",
       "0  112387248235954071     21:07:00       21:07:00    4014              1   \n",
       "1  112387248235954071     21:09:00       21:09:00    3231              2   \n",
       "2  112387248235954071     21:10:08       21:10:08    3232              3   \n",
       "\n",
       "   pickup_type  drop_off_type arrival_time_norm  \n",
       "0            0              0          21:07:00  \n",
       "1            0              0          21:09:00  \n",
       "2            0              0          21:10:08  "
      ]
     },
     "metadata": {},
     "output_type": "display_data"
    },
    {
     "name": "stdout",
     "output_type": "stream",
     "text": [
      "\n",
      "Stops\n"
     ]
    },
    {
     "data": {
      "text/html": [
       "<div>\n",
       "<style scoped>\n",
       "    .dataframe tbody tr th:only-of-type {\n",
       "        vertical-align: middle;\n",
       "    }\n",
       "\n",
       "    .dataframe tbody tr th {\n",
       "        vertical-align: top;\n",
       "    }\n",
       "\n",
       "    .dataframe thead th {\n",
       "        text-align: right;\n",
       "    }\n",
       "</style>\n",
       "<table border=\"1\" class=\"dataframe\">\n",
       "  <thead>\n",
       "    <tr style=\"text-align: right;\">\n",
       "      <th></th>\n",
       "      <th>stop_id</th>\n",
       "      <th>stop_name</th>\n",
       "      <th>stop_lat</th>\n",
       "      <th>stop_lon</th>\n",
       "      <th>location_type</th>\n",
       "      <th>parent_station</th>\n",
       "    </tr>\n",
       "  </thead>\n",
       "  <tbody>\n",
       "    <tr>\n",
       "      <th>0</th>\n",
       "      <td>0089</td>\n",
       "      <td>MONTGOMERY</td>\n",
       "      <td>50.838006</td>\n",
       "      <td>4.408970</td>\n",
       "      <td>0</td>\n",
       "      <td>37</td>\n",
       "    </tr>\n",
       "    <tr>\n",
       "      <th>1</th>\n",
       "      <td>0470F</td>\n",
       "      <td>SIMONIS</td>\n",
       "      <td>50.863666</td>\n",
       "      <td>4.329612</td>\n",
       "      <td>0</td>\n",
       "      <td>NaN</td>\n",
       "    </tr>\n",
       "    <tr>\n",
       "      <th>2</th>\n",
       "      <td>0471</td>\n",
       "      <td>SIMONIS</td>\n",
       "      <td>50.863732</td>\n",
       "      <td>4.329236</td>\n",
       "      <td>0</td>\n",
       "      <td>53</td>\n",
       "    </tr>\n",
       "  </tbody>\n",
       "</table>\n",
       "</div>"
      ],
      "text/plain": [
       "  stop_id   stop_name   stop_lat  stop_lon  location_type parent_station\n",
       "0    0089  MONTGOMERY  50.838006  4.408970              0             37\n",
       "1   0470F     SIMONIS  50.863666  4.329612              0            NaN\n",
       "2    0471     SIMONIS  50.863732  4.329236              0             53"
      ]
     },
     "metadata": {},
     "output_type": "display_data"
    },
    {
     "name": "stdout",
     "output_type": "stream",
     "text": [
      "\n",
      "Calendar\n"
     ]
    },
    {
     "data": {
      "text/html": [
       "<div>\n",
       "<style scoped>\n",
       "    .dataframe tbody tr th:only-of-type {\n",
       "        vertical-align: middle;\n",
       "    }\n",
       "\n",
       "    .dataframe tbody tr th {\n",
       "        vertical-align: top;\n",
       "    }\n",
       "\n",
       "    .dataframe thead th {\n",
       "        text-align: right;\n",
       "    }\n",
       "</style>\n",
       "<table border=\"1\" class=\"dataframe\">\n",
       "  <thead>\n",
       "    <tr style=\"text-align: right;\">\n",
       "      <th></th>\n",
       "      <th>service_id</th>\n",
       "      <th>start_date</th>\n",
       "      <th>end_date</th>\n",
       "      <th>day_category</th>\n",
       "    </tr>\n",
       "  </thead>\n",
       "  <tbody>\n",
       "    <tr>\n",
       "      <th>0</th>\n",
       "      <td>234578052</td>\n",
       "      <td>2021-08-23</td>\n",
       "      <td>2021-08-23</td>\n",
       "      <td>Weekday</td>\n",
       "    </tr>\n",
       "    <tr>\n",
       "      <th>1</th>\n",
       "      <td>236986502</td>\n",
       "      <td>2021-08-28</td>\n",
       "      <td>2021-08-28</td>\n",
       "      <td>Saturday</td>\n",
       "    </tr>\n",
       "    <tr>\n",
       "      <th>2</th>\n",
       "      <td>236988602</td>\n",
       "      <td>2021-08-29</td>\n",
       "      <td>2021-08-29</td>\n",
       "      <td>Sunday</td>\n",
       "    </tr>\n",
       "  </tbody>\n",
       "</table>\n",
       "</div>"
      ],
      "text/plain": [
       "  service_id start_date   end_date day_category\n",
       "0  234578052 2021-08-23 2021-08-23      Weekday\n",
       "1  236986502 2021-08-28 2021-08-28     Saturday\n",
       "2  236988602 2021-08-29 2021-08-29       Sunday"
      ]
     },
     "metadata": {},
     "output_type": "display_data"
    },
    {
     "name": "stdout",
     "output_type": "stream",
     "text": [
      "\n",
      "Calendar Dates Exception\n"
     ]
    },
    {
     "data": {
      "text/html": [
       "<div>\n",
       "<style scoped>\n",
       "    .dataframe tbody tr th:only-of-type {\n",
       "        vertical-align: middle;\n",
       "    }\n",
       "\n",
       "    .dataframe tbody tr th {\n",
       "        vertical-align: top;\n",
       "    }\n",
       "\n",
       "    .dataframe thead th {\n",
       "        text-align: right;\n",
       "    }\n",
       "</style>\n",
       "<table border=\"1\" class=\"dataframe\">\n",
       "  <thead>\n",
       "    <tr style=\"text-align: right;\">\n",
       "      <th></th>\n",
       "      <th>service_id</th>\n",
       "      <th>date</th>\n",
       "      <th>exception_type</th>\n",
       "    </tr>\n",
       "  </thead>\n",
       "  <tbody>\n",
       "    <tr>\n",
       "      <th>0</th>\n",
       "      <td>237476501</td>\n",
       "      <td>2021-09-12</td>\n",
       "      <td>Added</td>\n",
       "    </tr>\n",
       "    <tr>\n",
       "      <th>1</th>\n",
       "      <td>237566502</td>\n",
       "      <td>2021-09-19</td>\n",
       "      <td>Added</td>\n",
       "    </tr>\n",
       "    <tr>\n",
       "      <th>2</th>\n",
       "      <td>238162502</td>\n",
       "      <td>2021-09-19</td>\n",
       "      <td>Added</td>\n",
       "    </tr>\n",
       "  </tbody>\n",
       "</table>\n",
       "</div>"
      ],
      "text/plain": [
       "  service_id       date exception_type\n",
       "0  237476501 2021-09-12          Added\n",
       "1  237566502 2021-09-19          Added\n",
       "2  238162502 2021-09-19          Added"
      ]
     },
     "metadata": {},
     "output_type": "display_data"
    },
    {
     "name": "stdout",
     "output_type": "stream",
     "text": [
      "\n",
      "Shapes\n"
     ]
    },
    {
     "data": {
      "text/html": [
       "<div>\n",
       "<style scoped>\n",
       "    .dataframe tbody tr th:only-of-type {\n",
       "        vertical-align: middle;\n",
       "    }\n",
       "\n",
       "    .dataframe tbody tr th {\n",
       "        vertical-align: top;\n",
       "    }\n",
       "\n",
       "    .dataframe thead th {\n",
       "        text-align: right;\n",
       "    }\n",
       "</style>\n",
       "<table border=\"1\" class=\"dataframe\">\n",
       "  <thead>\n",
       "    <tr style=\"text-align: right;\">\n",
       "      <th></th>\n",
       "      <th>shape_id</th>\n",
       "      <th>shape_pt_lat</th>\n",
       "      <th>shape_pt_lon</th>\n",
       "      <th>shape_pt_sequence</th>\n",
       "    </tr>\n",
       "  </thead>\n",
       "  <tbody>\n",
       "    <tr>\n",
       "      <th>0</th>\n",
       "      <td>001m0042</td>\n",
       "      <td>50.841872</td>\n",
       "      <td>4.464541</td>\n",
       "      <td>10001</td>\n",
       "    </tr>\n",
       "    <tr>\n",
       "      <th>1</th>\n",
       "      <td>001m0042</td>\n",
       "      <td>50.843270</td>\n",
       "      <td>4.463607</td>\n",
       "      <td>10002</td>\n",
       "    </tr>\n",
       "    <tr>\n",
       "      <th>2</th>\n",
       "      <td>001m0042</td>\n",
       "      <td>50.843517</td>\n",
       "      <td>4.463443</td>\n",
       "      <td>10003</td>\n",
       "    </tr>\n",
       "  </tbody>\n",
       "</table>\n",
       "</div>"
      ],
      "text/plain": [
       "   shape_id  shape_pt_lat  shape_pt_lon  shape_pt_sequence\n",
       "0  001m0042     50.841872      4.464541              10001\n",
       "1  001m0042     50.843270      4.463607              10002\n",
       "2  001m0042     50.843517      4.463443              10003"
      ]
     },
     "metadata": {},
     "output_type": "display_data"
    }
   ],
   "source": [
    "# show a quick preview for each of the tables to be used\n",
    "\n",
    "print('\\nTrips')\n",
    "display(sched1.trips.head(3))\n",
    "print('\\nRoutes')\n",
    "display(sched1.routes.head(3))\n",
    "print('\\nStop Times')\n",
    "display(sched1.stop_times.head(3))\n",
    "print('\\nStops')\n",
    "display(sched1.stops.head(3))\n",
    "print('\\nCalendar')\n",
    "display(sched1.calendar.head(3))\n",
    "print('\\nCalendar Dates Exception')\n",
    "display(sched1.calendar_dates.head(3))\n",
    "print('\\nShapes')\n",
    "display(sched1.shapes.head(3))"
   ]
  },
  {
   "cell_type": "code",
   "execution_count": 25,
   "id": "b2ad8bae-7e2a-411b-84db-42acdd12567a",
   "metadata": {},
   "outputs": [],
   "source": [
    "# simplify the names for the tables\n",
    "# temp for now we use only sched1, as later we will combine both gtfs feeds together\n",
    "\n",
    "routes = sched1.routes\n",
    "stops = sched1.stops\n",
    "calendar = sched1.calendar\n",
    "shapes = sched1.shapes\n",
    "calendar_dates = sched1.calendar_dates\n",
    "trips = sched1.trips\n",
    "stop_times = sched1.stop_times"
   ]
  },
  {
   "cell_type": "markdown",
   "id": "cde8c808-76cf-4276-9542-54cd1b524ef7",
   "metadata": {},
   "source": [
    "## 3. DB Setup & Load"
   ]
  },
  {
   "cell_type": "code",
   "execution_count": 26,
   "id": "604fc45f-399f-4562-a8f6-c160ba1d6744",
   "metadata": {},
   "outputs": [],
   "source": [
    "# set up connection variables\n",
    "db_host = \"localhost\"\n",
    "db_port = \"5432\"\n",
    "db_user = \"postgres\"\n",
    "db_pass = \"password\"\n",
    "db_name = \"postgres\"\n",
    "\n",
    "# function to connect with postgres\n",
    "def connect_postgres(db_host, db_port, db_user, db_pass, db_name):\n",
    "    try:\n",
    "        # Connect to an existing database\n",
    "        connection = psycopg2.connect(host = db_host,\n",
    "                                      port = db_port,\n",
    "                                      user = db_user,\n",
    "                                      password = db_pass,\n",
    "                                      database = db_name)\n",
    "        # Set auto-commit\n",
    "        connection.set_isolation_level(ISOLATION_LEVEL_AUTOCOMMIT);\n",
    "        # Create a cursor to perform database operations\n",
    "        cur = connection.cursor()\n",
    "        # Print PostgreSQL details\n",
    "        print(\"PostgreSQL server information\")\n",
    "        print(connection.get_dsn_parameters(), \"\\n\")\n",
    "        # Executing a SQL query\n",
    "        cur.execute(\"SELECT version();\")\n",
    "        # Fetch result\n",
    "        record = cur.fetchone()\n",
    "        print(\"You are connected to - \", record, \"\\n\")\n",
    "\n",
    "    except (Exception, Error) as error:\n",
    "        print(\"Error while connecting to PostgreSQL\", error)\n",
    "    else:\n",
    "        return cur"
   ]
  },
  {
   "cell_type": "code",
   "execution_count": 27,
   "id": "a4e21cc7-9e0a-44fc-b8dc-543a2a5a3f22",
   "metadata": {},
   "outputs": [
    {
     "name": "stdout",
     "output_type": "stream",
     "text": [
      "PostgreSQL server information\n",
      "{'user': 'postgres', 'dbname': 'postgres', 'host': 'localhost', 'port': '5432', 'tty': '', 'options': '', 'sslmode': 'prefer', 'sslcompression': '0', 'gssencmode': 'prefer', 'krbsrvname': 'postgres', 'target_session_attrs': 'any'} \n",
      "\n",
      "You are connected to -  ('PostgreSQL 14.5, compiled by Visual C++ build 1914, 64-bit',) \n",
      "\n"
     ]
    }
   ],
   "source": [
    "# connect to postgres\n",
    "\n",
    "cur = connect_postgres(db_host, db_port, db_user, db_pass, db_name)"
   ]
  },
  {
   "cell_type": "code",
   "execution_count": 28,
   "id": "8f677ea3-751f-4d33-b889-45f5a6c55b2c",
   "metadata": {},
   "outputs": [
    {
     "name": "stdout",
     "output_type": "stream",
     "text": [
      "SQL Status Output:\n",
      " DROP DATABASE\n"
     ]
    }
   ],
   "source": [
    "# drop db if exists\n",
    "\n",
    "db_name = \"stib_transport\"\n",
    "\n",
    "cur.execute(\n",
    "    f\"DROP DATABASE IF EXISTS {db_name} WITH (FORCE);\"\n",
    ")\n",
    "print(\"SQL Status Output:\\n\", cur.statusmessage)"
   ]
  },
  {
   "cell_type": "code",
   "execution_count": 29,
   "id": "95a04896-a12b-4687-9a03-99b1a8fe65b7",
   "metadata": {},
   "outputs": [
    {
     "name": "stdout",
     "output_type": "stream",
     "text": [
      "SQL Status Output:\n",
      " CREATE DATABASE\n"
     ]
    }
   ],
   "source": [
    "# create db\n",
    "\n",
    "cur.execute(\n",
    "    f\"\"\"\n",
    "\n",
    "    CREATE DATABASE {db_name}\n",
    "        WITH\n",
    "        OWNER = postgres\n",
    "        TEMPLATE = template0\n",
    "        ENCODING = 'UTF8'\n",
    "        CONNECTION LIMIT = -1\n",
    "        IS_TEMPLATE = False;\n",
    "        \n",
    "    \"\"\"\n",
    ")\n",
    "print(\"SQL Status Output:\\n\", cur.statusmessage)"
   ]
  },
  {
   "cell_type": "code",
   "execution_count": 30,
   "id": "f651ad6c-b33b-4164-9a9d-80609397cca1",
   "metadata": {},
   "outputs": [
    {
     "name": "stdout",
     "output_type": "stream",
     "text": [
      "PostgreSQL server information\n",
      "{'user': 'postgres', 'dbname': 'stib_transport', 'host': 'localhost', 'port': '5432', 'tty': '', 'options': '', 'sslmode': 'prefer', 'sslcompression': '0', 'gssencmode': 'prefer', 'krbsrvname': 'postgres', 'target_session_attrs': 'any'} \n",
      "\n",
      "You are connected to -  ('PostgreSQL 14.5, compiled by Visual C++ build 1914, 64-bit',) \n",
      "\n"
     ]
    }
   ],
   "source": [
    "# connect to new db\n",
    "\n",
    "cur = connect_postgres(db_host, db_port, db_user, db_pass, db_name)"
   ]
  },
  {
   "cell_type": "code",
   "execution_count": 31,
   "id": "16b217b1-ac05-43f3-a993-70dd72a8e4ae",
   "metadata": {},
   "outputs": [
    {
     "name": "stdout",
     "output_type": "stream",
     "text": [
      "SQL Status Output:\n",
      " CREATE TABLE\n"
     ]
    }
   ],
   "source": [
    "# create tables for db\n",
    "cur.execute(\n",
    "    f\"\"\"\n",
    "\n",
    "    -- create tables\n",
    "\n",
    "    create table if not exists sched_routes\n",
    "    (\n",
    "        route_id varchar(10),\n",
    "        line varchar(10),\n",
    "        line_name varchar(50),\n",
    "        vehicle varchar(10),\n",
    "        route_color_hex varchar(10),\n",
    "        route_text_color_hex varchar(10),\n",
    "        line_desc varchar(50),\n",
    "        primary key(route_id)\n",
    "    );\n",
    "\n",
    "    create table if not exists sched_stops\n",
    "    (\n",
    "        stop_id varchar(10),\n",
    "        stop_name varchar(50),\n",
    "        stop_lat double precision,\n",
    "        stop_lon double precision,\n",
    "        location_type integer,\n",
    "        parent_station varchar(10),\n",
    "        primary key(stop_id)\n",
    "    );\n",
    "\n",
    "    create table if not exists sched_calendar\n",
    "    (\n",
    "        service_id varchar(25),\n",
    "        start_date date,\n",
    "        end_date date,\n",
    "        day_category varchar(15),\n",
    "        primary key(service_id)\n",
    "    );\n",
    "\n",
    "    create table if not exists sched_shapes\n",
    "    (\n",
    "        shape_id varchar(20),\n",
    "        shape_pt_lat double precision,\n",
    "        shape_pt_lon double precision,\n",
    "        shape_pt_sequence integer,\n",
    "        primary key(shape_id, shape_pt_sequence)\n",
    "    );\n",
    "\n",
    "    create table if not exists sched_calendar_date_exceptions\n",
    "    (\n",
    "        service_id varchar(25),\n",
    "        date date,\n",
    "        exception_type varchar(15),\n",
    "        primary key(service_id, date)\n",
    "    );\n",
    "\n",
    "    create table if not exists sched_trips\n",
    "    (\n",
    "        route_id varchar(10),\n",
    "        service_id varchar(25),\n",
    "        trip_id varchar(30),\n",
    "        trip_headsign varchar(50),\n",
    "        direction integer,\n",
    "        block_id varchar(25),\n",
    "        shape_id varchar(25),\n",
    "        primary key(trip_id)\n",
    "    );\n",
    "\n",
    "    create table if not exists sched_stop_times\n",
    "    (\n",
    "        trip_id varchar(30),\n",
    "        arrival_time varchar(15),\n",
    "        departure_time varchar(15),\n",
    "        stop_id varchar(10),\n",
    "        stop_sequence integer,\n",
    "        pickup_type integer,\n",
    "        drop_off_type integer,\n",
    "        arrival_time_norm time,\n",
    "        primary key(trip_id, arrival_time, stop_id)\n",
    "    );\n",
    "\n",
    "        \n",
    "    \"\"\"\n",
    ")\n",
    "print(\"SQL Status Output:\\n\", cur.statusmessage)"
   ]
  },
  {
   "cell_type": "code",
   "execution_count": 32,
   "id": "56ca9fff-3dc2-49f2-8c7e-a42ed3228958",
   "metadata": {},
   "outputs": [],
   "source": [
    "# function to insert the data from dataframe to db table for each case\n",
    "\n",
    "def insert_df_into_db_table(df, table_name):\n",
    "  \n",
    "    tuples = [tuple(x) for x in df.to_numpy()]\n",
    "    cols = ','.join(list(df.columns))\n",
    "    query = \"INSERT INTO %s(%s) VALUES %%s\" % (table_name, cols)\n",
    "    try:\n",
    "        extras.execute_values(cur, query, tuples)\n",
    "    except (Exception, psycopg2.DatabaseError) as error:\n",
    "        print(\"Insert Error: %s\" % error)\n",
    "    else:\n",
    "        print(f'DB table {table_name} has been populated')"
   ]
  },
  {
   "cell_type": "code",
   "execution_count": 33,
   "id": "9fdeda2d-e3f7-4853-b8b4-7e0e052d6c2c",
   "metadata": {},
   "outputs": [
    {
     "name": "stdout",
     "output_type": "stream",
     "text": [
      "DB table sched_routes has been populated\n",
      "DB table sched_stops has been populated\n",
      "DB table sched_calendar has been populated\n",
      "DB table sched_shapes has been populated\n",
      "DB table sched_calendar_date_exceptions has been populated\n",
      "DB table sched_trips has been populated\n",
      "DB table sched_stop_times has been populated\n"
     ]
    }
   ],
   "source": [
    "# apply function to insert the data from dataframe to db table for each case\n",
    "\n",
    "insert_df_into_db_table(routes, 'sched_routes')\n",
    "insert_df_into_db_table(stops, 'sched_stops')\n",
    "insert_df_into_db_table(calendar, 'sched_calendar')\n",
    "insert_df_into_db_table(shapes, 'sched_shapes')\n",
    "insert_df_into_db_table(calendar_dates, 'sched_calendar_date_exceptions')\n",
    "insert_df_into_db_table(trips, 'sched_trips')\n",
    "insert_df_into_db_table(stop_times, 'sched_stop_times')"
   ]
  },
  {
   "cell_type": "code",
   "execution_count": 34,
   "id": "68da7628-f164-4eb3-9b35-b2f38341442f",
   "metadata": {},
   "outputs": [],
   "source": [
    "# close cursor connection to db\n",
    "\n",
    "cur.close()"
   ]
  },
  {
   "cell_type": "markdown",
   "id": "5be37092-55fe-4491-8ffc-a8ba5f63777c",
   "metadata": {},
   "source": [
    "## End."
   ]
  }
 ],
 "metadata": {
  "kernelspec": {
   "display_name": "Python 3 (ipykernel)",
   "language": "python",
   "name": "python3"
  },
  "language_info": {
   "codemirror_mode": {
    "name": "ipython",
    "version": 3
   },
   "file_extension": ".py",
   "mimetype": "text/x-python",
   "name": "python",
   "nbconvert_exporter": "python",
   "pygments_lexer": "ipython3",
   "version": "3.9.13"
  }
 },
 "nbformat": 4,
 "nbformat_minor": 5
}
