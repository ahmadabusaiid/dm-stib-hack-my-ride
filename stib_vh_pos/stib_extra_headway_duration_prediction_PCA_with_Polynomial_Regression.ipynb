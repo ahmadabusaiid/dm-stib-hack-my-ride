{
 "cells": [
  {
   "cell_type": "code",
   "execution_count": 1,
   "id": "ee1bd346-1a74-4f3a-befe-ae41d37928dc",
   "metadata": {},
   "outputs": [],
   "source": [
    "import numpy as np\n",
    "import pandas as pd\n",
    "import psycopg2\n",
    "import psycopg2.extras as extras\n",
    "import matplotlib.pyplot as plt\n",
    "from sklearn import preprocessing\n",
    "from IPython.display import display, HTML, clear_output\n",
    "from psycopg2 import Error\n",
    "from psycopg2.extensions import ISOLATION_LEVEL_AUTOCOMMIT\n",
    "\n",
    "rand_seed = 4321"
   ]
  },
  {
   "cell_type": "code",
   "execution_count": 2,
   "id": "e7fae5b0-1550-4d71-9651-54284b0c2615",
   "metadata": {},
   "outputs": [],
   "source": [
    "# set up connection variables\n",
    "db_host = \"localhost\"\n",
    "db_port = \"5433\"\n",
    "db_user = \"postgres\"\n",
    "db_pass = \"root\"\n",
    "db_name = \"stib_transport\"\n",
    "\n",
    "# function to connect with postgres\n",
    "def connect_postgres(db_host, db_port, db_user, db_pass, db_name):\n",
    "    try:\n",
    "        # connect to an existing database\n",
    "        connection = psycopg2.connect(host = db_host,\n",
    "                                      port = db_port,\n",
    "                                      user = db_user,\n",
    "                                      password = db_pass,\n",
    "                                      database = db_name)\n",
    "        # set auto-commit\n",
    "        connection.set_isolation_level(ISOLATION_LEVEL_AUTOCOMMIT);\n",
    "        # create a cursor to perform database operations\n",
    "        cur = connection.cursor()\n",
    "        # print PostgreSQL details\n",
    "        print(\"PostgreSQL server information\")\n",
    "        print(connection.get_dsn_parameters(), \"\\n\")\n",
    "        # execute a SQL query\n",
    "        cur.execute(\"SELECT version();\")\n",
    "        # fetch result\n",
    "        record = cur.fetchone()\n",
    "        print(\"You are connected to - \", record, \"\\n\")\n",
    "\n",
    "    except (Exception, Error) as error:\n",
    "        print(\"Error while connecting to PostgreSQL\", error)\n",
    "    else:\n",
    "        return cur"
   ]
  },
  {
   "cell_type": "code",
   "execution_count": 3,
   "id": "26c2dfd8-0d5e-4584-bdda-2718a6fe91c3",
   "metadata": {},
   "outputs": [
    {
     "name": "stdout",
     "output_type": "stream",
     "text": [
      "PostgreSQL server information\n",
      "{'user': 'postgres', 'dbname': 'stib_transport', 'host': 'localhost', 'port': '5433', 'tty': '', 'options': '', 'sslmode': 'prefer', 'sslcompression': '0', 'gssencmode': 'prefer', 'krbsrvname': 'postgres', 'target_session_attrs': 'any'} \n",
      "\n",
      "You are connected to -  ('PostgreSQL 14.6 (Ubuntu 14.6-1.pgdg22.04+1) on x86_64-pc-linux-gnu, compiled by gcc (Ubuntu 11.3.0-1ubuntu1~22.04) 11.3.0, 64-bit',) \n",
      "\n"
     ]
    }
   ],
   "source": [
    "# connect to postgres\n",
    "\n",
    "cur = connect_postgres(db_host, db_port, db_user, db_pass, db_name)"
   ]
  },
  {
   "cell_type": "markdown",
   "id": "cd81268c-8852-42f9-be52-6eb251b84e72",
   "metadata": {},
   "source": [
    "## 1. Data Preprocessing & Transformations"
   ]
  },
  {
   "cell_type": "code",
   "execution_count": 4,
   "id": "4268b5d8-da65-4ece-8d76-0163648e9550",
   "metadata": {
    "tags": []
   },
   "outputs": [],
   "source": [
    "# query \n",
    "\n",
    "cur.execute(\n",
    "    f\"\"\"\n",
    "    \n",
    "    with base as (\n",
    "        select\n",
    "          (extract(epoch from vh_time) - 0) / (86400 - 0) as epoch_time_norm\n",
    "        , line\n",
    "        , direction\n",
    "        , stop_seq\n",
    "        , lower(vehicle) as vehicle\n",
    "        , actual_headway - sched_avg_headway as extra_headway_duration\n",
    "        from actual_headways \n",
    "        where day_category = 'Weekday'\n",
    "    )\n",
    "\n",
    "    , max_stop_seq as (\n",
    "        select\n",
    "          distinct\n",
    "          line\n",
    "        , direction\n",
    "        , max(stop_seq) over(partition by line, direction order by stop_seq range between unbounded preceding and unbounded following) as max_stop_seq\n",
    "        from stop_details_combined\n",
    "    )\n",
    "\n",
    "    , final_result as (\n",
    "        select\n",
    "          a.epoch_time_norm\n",
    "        , a.line\n",
    "        , a.direction - 1 as direction\n",
    "        , (a.stop_seq::float - 1) / (b.max_stop_seq::float - 1) as stop_seq_norm\n",
    "        , a.vehicle\n",
    "        , a.extra_headway_duration\n",
    "        from base a\n",
    "        inner join max_stop_seq b\n",
    "            on a.line = b.line\n",
    "            and a.direction = b.direction\n",
    "    )\n",
    "\n",
    "    select * from final_result;\n",
    "        \n",
    "    \"\"\"\n",
    ")\n",
    "\n",
    "df = pd.DataFrame(cur.fetchall(), columns = [desc[0] for desc in cur.description])"
   ]
  },
  {
   "cell_type": "code",
   "execution_count": 5,
   "id": "4db6ed96-83d8-4da4-b38f-872e228b4ed1",
   "metadata": {},
   "outputs": [],
   "source": [
    "df.line = df.line.astype('int64')\n",
    "df.extra_headway_duration = df.extra_headway_duration.astype('float64')\n",
    "df.epoch_time_norm = df.epoch_time_norm.astype('float64')"
   ]
  },
  {
   "cell_type": "code",
   "execution_count": 6,
   "id": "95871bfd-14eb-4d0d-921b-4a40a8829aa6",
   "metadata": {},
   "outputs": [],
   "source": [
    "df = df.join(pd.get_dummies(df.vehicle, prefix = 'vehicle'))\n",
    "df = df.join(pd.get_dummies(df.direction, prefix = 'direction'))"
   ]
  },
  {
   "cell_type": "code",
   "execution_count": 7,
   "id": "58829253-d5f2-440f-be9a-5aee0edfa5b0",
   "metadata": {},
   "outputs": [
    {
     "data": {
      "text/html": [
       "<div>\n",
       "<style scoped>\n",
       "    .dataframe tbody tr th:only-of-type {\n",
       "        vertical-align: middle;\n",
       "    }\n",
       "\n",
       "    .dataframe tbody tr th {\n",
       "        vertical-align: top;\n",
       "    }\n",
       "\n",
       "    .dataframe thead th {\n",
       "        text-align: right;\n",
       "    }\n",
       "</style>\n",
       "<table border=\"1\" class=\"dataframe\">\n",
       "  <thead>\n",
       "    <tr style=\"text-align: right;\">\n",
       "      <th></th>\n",
       "      <th>epoch_time_norm</th>\n",
       "      <th>line</th>\n",
       "      <th>direction</th>\n",
       "      <th>stop_seq_norm</th>\n",
       "      <th>vehicle</th>\n",
       "      <th>extra_headway_duration</th>\n",
       "      <th>vehicle_bus</th>\n",
       "      <th>vehicle_metro</th>\n",
       "      <th>vehicle_tram</th>\n",
       "      <th>direction_0</th>\n",
       "      <th>direction_1</th>\n",
       "    </tr>\n",
       "  </thead>\n",
       "  <tbody>\n",
       "    <tr>\n",
       "      <th>0</th>\n",
       "      <td>0.657986</td>\n",
       "      <td>0000001</td>\n",
       "      <td>0</td>\n",
       "      <td>0.0</td>\n",
       "      <td>metro</td>\n",
       "      <td>2.37</td>\n",
       "      <td>0</td>\n",
       "      <td>1</td>\n",
       "      <td>0</td>\n",
       "      <td>1</td>\n",
       "      <td>0</td>\n",
       "    </tr>\n",
       "    <tr>\n",
       "      <th>1</th>\n",
       "      <td>0.661701</td>\n",
       "      <td>0000001</td>\n",
       "      <td>0</td>\n",
       "      <td>0.0</td>\n",
       "      <td>metro</td>\n",
       "      <td>0.19</td>\n",
       "      <td>0</td>\n",
       "      <td>1</td>\n",
       "      <td>0</td>\n",
       "      <td>1</td>\n",
       "      <td>0</td>\n",
       "    </tr>\n",
       "    <tr>\n",
       "      <th>2</th>\n",
       "      <td>0.665440</td>\n",
       "      <td>0000001</td>\n",
       "      <td>0</td>\n",
       "      <td>0.0</td>\n",
       "      <td>metro</td>\n",
       "      <td>0.21</td>\n",
       "      <td>0</td>\n",
       "      <td>1</td>\n",
       "      <td>0</td>\n",
       "      <td>1</td>\n",
       "      <td>0</td>\n",
       "    </tr>\n",
       "  </tbody>\n",
       "</table>\n",
       "</div>"
      ],
      "text/plain": [
       "   epoch_time_norm     line  direction  stop_seq_norm vehicle  \\\n",
       "0         0.657986  0000001          0            0.0   metro   \n",
       "1         0.661701  0000001          0            0.0   metro   \n",
       "2         0.665440  0000001          0            0.0   metro   \n",
       "\n",
       "   extra_headway_duration  vehicle_bus  vehicle_metro  vehicle_tram  \\\n",
       "0                    2.37            0              1             0   \n",
       "1                    0.19            0              1             0   \n",
       "2                    0.21            0              1             0   \n",
       "\n",
       "   direction_0  direction_1  \n",
       "0            1            0  \n",
       "1            1            0  \n",
       "2            1            0  "
      ]
     },
     "execution_count": 7,
     "metadata": {},
     "output_type": "execute_result"
    }
   ],
   "source": [
    "df.line = df.line.apply(\n",
    "    lambda x: str(\"{0:0=7d}\".format(int(np.binary_repr(x))))\n",
    ").astype('str')\n",
    "\n",
    "df.head(3)"
   ]
  },
  {
   "cell_type": "code",
   "execution_count": 8,
   "id": "105203cb-8c2b-4b34-9b6b-900ee009c7ce",
   "metadata": {},
   "outputs": [
    {
     "data": {
      "text/html": [
       "<div>\n",
       "<style scoped>\n",
       "    .dataframe tbody tr th:only-of-type {\n",
       "        vertical-align: middle;\n",
       "    }\n",
       "\n",
       "    .dataframe tbody tr th {\n",
       "        vertical-align: top;\n",
       "    }\n",
       "\n",
       "    .dataframe thead th {\n",
       "        text-align: right;\n",
       "    }\n",
       "</style>\n",
       "<table border=\"1\" class=\"dataframe\">\n",
       "  <thead>\n",
       "    <tr style=\"text-align: right;\">\n",
       "      <th></th>\n",
       "      <th>epoch_time_norm</th>\n",
       "      <th>stop_seq_norm</th>\n",
       "      <th>direction_0</th>\n",
       "      <th>direction_1</th>\n",
       "      <th>vehicle_bus</th>\n",
       "      <th>vehicle_metro</th>\n",
       "      <th>vehicle_tram</th>\n",
       "      <th>line_bit_1</th>\n",
       "      <th>line_bit_2</th>\n",
       "      <th>line_bit_3</th>\n",
       "      <th>line_bit_4</th>\n",
       "      <th>line_bit_5</th>\n",
       "      <th>line_bit_6</th>\n",
       "      <th>line_bit_7</th>\n",
       "      <th>extra_headway_duration</th>\n",
       "    </tr>\n",
       "  </thead>\n",
       "  <tbody>\n",
       "    <tr>\n",
       "      <th>0</th>\n",
       "      <td>0.657986</td>\n",
       "      <td>0.0</td>\n",
       "      <td>1</td>\n",
       "      <td>0</td>\n",
       "      <td>0</td>\n",
       "      <td>1</td>\n",
       "      <td>0</td>\n",
       "      <td>0</td>\n",
       "      <td>0</td>\n",
       "      <td>0</td>\n",
       "      <td>0</td>\n",
       "      <td>0</td>\n",
       "      <td>0</td>\n",
       "      <td>1</td>\n",
       "      <td>2.37</td>\n",
       "    </tr>\n",
       "    <tr>\n",
       "      <th>1</th>\n",
       "      <td>0.661701</td>\n",
       "      <td>0.0</td>\n",
       "      <td>1</td>\n",
       "      <td>0</td>\n",
       "      <td>0</td>\n",
       "      <td>1</td>\n",
       "      <td>0</td>\n",
       "      <td>0</td>\n",
       "      <td>0</td>\n",
       "      <td>0</td>\n",
       "      <td>0</td>\n",
       "      <td>0</td>\n",
       "      <td>0</td>\n",
       "      <td>1</td>\n",
       "      <td>0.19</td>\n",
       "    </tr>\n",
       "    <tr>\n",
       "      <th>2</th>\n",
       "      <td>0.665440</td>\n",
       "      <td>0.0</td>\n",
       "      <td>1</td>\n",
       "      <td>0</td>\n",
       "      <td>0</td>\n",
       "      <td>1</td>\n",
       "      <td>0</td>\n",
       "      <td>0</td>\n",
       "      <td>0</td>\n",
       "      <td>0</td>\n",
       "      <td>0</td>\n",
       "      <td>0</td>\n",
       "      <td>0</td>\n",
       "      <td>1</td>\n",
       "      <td>0.21</td>\n",
       "    </tr>\n",
       "  </tbody>\n",
       "</table>\n",
       "</div>"
      ],
      "text/plain": [
       "   epoch_time_norm  stop_seq_norm  direction_0  direction_1  vehicle_bus  \\\n",
       "0         0.657986            0.0            1            0            0   \n",
       "1         0.661701            0.0            1            0            0   \n",
       "2         0.665440            0.0            1            0            0   \n",
       "\n",
       "   vehicle_metro  vehicle_tram  line_bit_1  line_bit_2  line_bit_3  \\\n",
       "0              1             0           0           0           0   \n",
       "1              1             0           0           0           0   \n",
       "2              1             0           0           0           0   \n",
       "\n",
       "   line_bit_4  line_bit_5  line_bit_6  line_bit_7  extra_headway_duration  \n",
       "0           0           0           0           1                    2.37  \n",
       "1           0           0           0           1                    0.19  \n",
       "2           0           0           0           1                    0.21  "
      ]
     },
     "execution_count": 8,
     "metadata": {},
     "output_type": "execute_result"
    }
   ],
   "source": [
    "for i in range(7):\n",
    "    df[f'line_bit_{i+1}'] = df['line'].apply(\n",
    "    lambda x: x[i]\n",
    ").astype('uint8')\n",
    "    \n",
    "df.drop(\n",
    "    columns = [\n",
    "        'line',\n",
    "        'vehicle'\n",
    "    ],\n",
    "    inplace = True\n",
    ")\n",
    "\n",
    "df = df[['epoch_time_norm', 'stop_seq_norm', 'direction_0', 'direction_1',\n",
    "       'vehicle_bus', 'vehicle_metro', 'vehicle_tram', 'line_bit_1',\n",
    "       'line_bit_2', 'line_bit_3', 'line_bit_4', 'line_bit_5', 'line_bit_6',\n",
    "       'line_bit_7', 'extra_headway_duration']]\n",
    "    \n",
    "df.head(3)"
   ]
  },
  {
   "cell_type": "markdown",
   "id": "14a65bdb-9fec-4b43-aacf-4ca18f587c96",
   "metadata": {},
   "source": [
    "## 2. Data Training"
   ]
  },
  {
   "cell_type": "code",
   "execution_count": 9,
   "id": "124cccb7-e068-450c-a09b-9d8a9c568731",
   "metadata": {},
   "outputs": [],
   "source": [
    "from sklearn.model_selection import train_test_split\n",
    "\n",
    "X =  df[['epoch_time_norm', 'stop_seq_norm', 'direction_0', 'direction_1',\n",
    "       'vehicle_bus', 'vehicle_metro', 'vehicle_tram', 'line_bit_1',\n",
    "       'line_bit_2', 'line_bit_3', 'line_bit_4', 'line_bit_5', 'line_bit_6',\n",
    "       'line_bit_7']].values\n",
    "\n",
    "y = df[['extra_headway_duration']].values\n",
    "\n",
    "x_train, x_test, y_train, y_test = train_test_split(X, y, test_size = 0.2, random_state = rand_seed, shuffle = True)"
   ]
  },
  {
   "cell_type": "code",
   "execution_count": 10,
   "id": "2a925420-eeb2-4705-8a37-6e181b50d14b",
   "metadata": {},
   "outputs": [],
   "source": [
    "from sklearn.model_selection import GridSearchCV\n",
    "from sklearn.model_selection import RandomizedSearchCV\n",
    "from sklearn.metrics import make_scorer, mean_squared_error, r2_score\n",
    "\n",
    "\n",
    "def find_optimal_params(model, param_grid):\n",
    "    rmse = make_scorer(mean_squared_error, squared = False)\n",
    "    gs_cv = GridSearchCV(model, param_grid, scoring = rmse, n_jobs= -1, verbose = 2, cv = 2)\n",
    "    gs_cv.fit(x_train, y_train.ravel())\n",
    "    optimal_param = gs_cv.best_params_\n",
    "    best_model = gs_cv.best_estimator_\n",
    "    return best_model, optimal_param"
   ]
  },
  {
   "cell_type": "code",
   "execution_count": null,
   "id": "4483acf3-9dab-4dba-9485-60874f2b8701",
   "metadata": {},
   "outputs": [
    {
     "name": "stdout",
     "output_type": "stream",
     "text": [
      "Fitting 2 folds for each of 1176 candidates, totalling 2352 fits\n",
      "\n",
      "Random Forest - Optimal hyperparameters:\n"
     ]
    },
    {
     "data": {
      "text/plain": [
       "{'criterion': 'squared_error',\n",
       " 'max_depth': None,\n",
       " 'min_samples_split': 2,\n",
       " 'n_estimators': 50}"
      ]
     },
     "execution_count": 12,
     "metadata": {},
     "output_type": "execute_result"
    }
   ],
   "source": [
    "# from sklearn.ensemble import RandomForestRegressor\n",
    "\n",
    "# rfc = RandomForestRegressor(random_state = rand_seed, n_jobs = -1)\n",
    "\n",
    "# rfc_param_grid = {\n",
    "#     'n_estimators': np.arange(50, 120, 5).astype(int),\n",
    "#     'criterion': ['squared_error', 'friedman_mse'],\n",
    "#     'max_depth': [None] + list(np.arange(18, 30, 2).astype(int)),\n",
    "#     # 'max_leaf_nodes': [None],\n",
    "#     'min_samples_split': np.arange(2, 8).astype(int)\n",
    "# }\n",
    "\n",
    "# rfc_model, rfc_best_params = find_optimal_params(rfc, rfc_param_grid)\n",
    "\n",
    "# print('\\nRandom Forest - Optimal hyperparameters:')\n",
    "# rfc_best_params"
   ]
  },
  {
   "cell_type": "code",
   "execution_count": null,
   "id": "36815f5e-38db-4f3c-8b96-d038de8745fb",
   "metadata": {},
   "outputs": [],
   "source": [
    "# y_predictions = rfc_model.predict(x_test)"
   ]
  },
  {
   "cell_type": "code",
   "execution_count": null,
   "id": "6c160fd4-66d8-4d70-b0c2-009cae25fb31",
   "metadata": {},
   "outputs": [
    {
     "data": {
      "text/plain": [
       "7.04300510676131"
      ]
     },
     "execution_count": 25,
     "metadata": {},
     "output_type": "execute_result"
    }
   ],
   "source": [
    "# mean_squared_error(y_test, y_predictions, squared = False)"
   ]
  },
  {
   "cell_type": "code",
   "execution_count": null,
   "id": "2ec62f7b-e86c-4316-995b-033fcd14610f",
   "metadata": {},
   "outputs": [
    {
     "name": "stdout",
     "output_type": "stream",
     "text": [
      "Fitting 2 folds for each of 9 candidates, totalling 18 fits\n",
      "\n",
      "Random Forest - Optimal hyperparameters:\n"
     ]
    },
    {
     "data": {
      "text/plain": [
       "{'n_estimators': 5}"
      ]
     },
     "execution_count": 27,
     "metadata": {},
     "output_type": "execute_result"
    }
   ],
   "source": [
    "# rfc = RandomForestRegressor(random_state = rand_seed, n_jobs = -1, criterion = 'squared_error', max_depth = None, min_samples_split = 2)\n",
    "\n",
    "# rfc_param_grid = {\n",
    "#     'n_estimators': np.arange(5, 50, 5).astype(int),\n",
    "# }\n",
    "\n",
    "# rfc_model2, rfc_best_params2 = find_optimal_params(rfc, rfc_param_grid)\n",
    "\n",
    "# print('\\nRandom Forest - Optimal hyperparameters:')\n",
    "# rfc_best_params2"
   ]
  },
  {
   "cell_type": "code",
   "execution_count": 28,
   "id": "bb60cdc9-f602-4c93-a0c8-3c06f6431e41",
   "metadata": {},
   "outputs": [],
   "source": [
    "# y_predictions2 = rfc_model.predict(x_test)"
   ]
  },
  {
   "cell_type": "code",
   "execution_count": 29,
   "id": "8138fd20-4db2-4de1-8f04-0771ac78c578",
   "metadata": {},
   "outputs": [
    {
     "data": {
      "text/plain": [
       "7.043005106761309"
      ]
     },
     "execution_count": 29,
     "metadata": {},
     "output_type": "execute_result"
    }
   ],
   "source": [
    "# mean_squared_error(y_test, y_predictions2, squared = False)"
   ]
  },
  {
   "cell_type": "code",
   "execution_count": 11,
   "id": "97fb48d6-abac-4124-ba9e-69cb7da756df",
   "metadata": {},
   "outputs": [
    {
     "ename": "MemoryError",
     "evalue": "Unable to allocate 36.0 GiB for an array with shape (415258, 11627) and data type float64",
     "output_type": "error",
     "traceback": [
      "\u001b[0;31m---------------------------------------------------------------------------\u001b[0m",
      "\u001b[0;31mMemoryError\u001b[0m                               Traceback (most recent call last)",
      "Input \u001b[0;32mIn [11]\u001b[0m, in \u001b[0;36m<cell line: 6>\u001b[0;34m()\u001b[0m\n\u001b[1;32m      2\u001b[0m \u001b[38;5;28;01mfrom\u001b[39;00m \u001b[38;5;21;01msklearn\u001b[39;00m\u001b[38;5;21;01m.\u001b[39;00m\u001b[38;5;21;01mlinear_model\u001b[39;00m \u001b[38;5;28;01mimport\u001b[39;00m LinearRegression\n\u001b[1;32m      4\u001b[0m poly \u001b[38;5;241m=\u001b[39m PolynomialFeatures(degree \u001b[38;5;241m=\u001b[39m \u001b[38;5;241m5\u001b[39m, include_bias\u001b[38;5;241m=\u001b[39m\u001b[38;5;28;01mFalse\u001b[39;00m)\n\u001b[0;32m----> 6\u001b[0m poly_features \u001b[38;5;241m=\u001b[39m \u001b[43mpoly\u001b[49m\u001b[38;5;241;43m.\u001b[39;49m\u001b[43mfit_transform\u001b[49m\u001b[43m(\u001b[49m\u001b[43mx_train\u001b[49m\u001b[43m)\u001b[49m\n\u001b[1;32m      8\u001b[0m poly_reg_model \u001b[38;5;241m=\u001b[39m LinearRegression()\n\u001b[1;32m      9\u001b[0m poly_reg_model\u001b[38;5;241m.\u001b[39mfit(poly_features, y_train)\n",
      "File \u001b[0;32m~/anaconda3/lib/python3.9/site-packages/sklearn/base.py:852\u001b[0m, in \u001b[0;36mTransformerMixin.fit_transform\u001b[0;34m(self, X, y, **fit_params)\u001b[0m\n\u001b[1;32m    848\u001b[0m \u001b[38;5;66;03m# non-optimized default implementation; override when a better\u001b[39;00m\n\u001b[1;32m    849\u001b[0m \u001b[38;5;66;03m# method is possible for a given clustering algorithm\u001b[39;00m\n\u001b[1;32m    850\u001b[0m \u001b[38;5;28;01mif\u001b[39;00m y \u001b[38;5;129;01mis\u001b[39;00m \u001b[38;5;28;01mNone\u001b[39;00m:\n\u001b[1;32m    851\u001b[0m     \u001b[38;5;66;03m# fit method of arity 1 (unsupervised transformation)\u001b[39;00m\n\u001b[0;32m--> 852\u001b[0m     \u001b[38;5;28;01mreturn\u001b[39;00m \u001b[38;5;28;43mself\u001b[39;49m\u001b[38;5;241;43m.\u001b[39;49m\u001b[43mfit\u001b[49m\u001b[43m(\u001b[49m\u001b[43mX\u001b[49m\u001b[43m,\u001b[49m\u001b[43m \u001b[49m\u001b[38;5;241;43m*\u001b[39;49m\u001b[38;5;241;43m*\u001b[39;49m\u001b[43mfit_params\u001b[49m\u001b[43m)\u001b[49m\u001b[38;5;241;43m.\u001b[39;49m\u001b[43mtransform\u001b[49m\u001b[43m(\u001b[49m\u001b[43mX\u001b[49m\u001b[43m)\u001b[49m\n\u001b[1;32m    853\u001b[0m \u001b[38;5;28;01melse\u001b[39;00m:\n\u001b[1;32m    854\u001b[0m     \u001b[38;5;66;03m# fit method of arity 2 (supervised transformation)\u001b[39;00m\n\u001b[1;32m    855\u001b[0m     \u001b[38;5;28;01mreturn\u001b[39;00m \u001b[38;5;28mself\u001b[39m\u001b[38;5;241m.\u001b[39mfit(X, y, \u001b[38;5;241m*\u001b[39m\u001b[38;5;241m*\u001b[39mfit_params)\u001b[38;5;241m.\u001b[39mtransform(X)\n",
      "File \u001b[0;32m~/anaconda3/lib/python3.9/site-packages/sklearn/preprocessing/_polynomial.py:421\u001b[0m, in \u001b[0;36mPolynomialFeatures.transform\u001b[0;34m(self, X)\u001b[0m\n\u001b[1;32m    417\u001b[0m     XP \u001b[38;5;241m=\u001b[39m sparse\u001b[38;5;241m.\u001b[39mhstack(columns, dtype\u001b[38;5;241m=\u001b[39mX\u001b[38;5;241m.\u001b[39mdtype)\u001b[38;5;241m.\u001b[39mtocsc()\n\u001b[1;32m    418\u001b[0m \u001b[38;5;28;01melse\u001b[39;00m:\n\u001b[1;32m    419\u001b[0m     \u001b[38;5;66;03m# Do as if _min_degree = 0 and cut down array after the\u001b[39;00m\n\u001b[1;32m    420\u001b[0m     \u001b[38;5;66;03m# computation, i.e. use _n_out_full instead of n_output_features_.\u001b[39;00m\n\u001b[0;32m--> 421\u001b[0m     XP \u001b[38;5;241m=\u001b[39m \u001b[43mnp\u001b[49m\u001b[38;5;241;43m.\u001b[39;49m\u001b[43mempty\u001b[49m\u001b[43m(\u001b[49m\n\u001b[1;32m    422\u001b[0m \u001b[43m        \u001b[49m\u001b[43mshape\u001b[49m\u001b[38;5;241;43m=\u001b[39;49m\u001b[43m(\u001b[49m\u001b[43mn_samples\u001b[49m\u001b[43m,\u001b[49m\u001b[43m \u001b[49m\u001b[38;5;28;43mself\u001b[39;49m\u001b[38;5;241;43m.\u001b[39;49m\u001b[43m_n_out_full\u001b[49m\u001b[43m)\u001b[49m\u001b[43m,\u001b[49m\u001b[43m \u001b[49m\u001b[43mdtype\u001b[49m\u001b[38;5;241;43m=\u001b[39;49m\u001b[43mX\u001b[49m\u001b[38;5;241;43m.\u001b[39;49m\u001b[43mdtype\u001b[49m\u001b[43m,\u001b[49m\u001b[43m \u001b[49m\u001b[43morder\u001b[49m\u001b[38;5;241;43m=\u001b[39;49m\u001b[38;5;28;43mself\u001b[39;49m\u001b[38;5;241;43m.\u001b[39;49m\u001b[43morder\u001b[49m\n\u001b[1;32m    423\u001b[0m \u001b[43m    \u001b[49m\u001b[43m)\u001b[49m\n\u001b[1;32m    425\u001b[0m     \u001b[38;5;66;03m# What follows is a faster implementation of:\u001b[39;00m\n\u001b[1;32m    426\u001b[0m     \u001b[38;5;66;03m# for i, comb in enumerate(combinations):\u001b[39;00m\n\u001b[1;32m    427\u001b[0m     \u001b[38;5;66;03m#     XP[:, i] = X[:, comb].prod(1)\u001b[39;00m\n\u001b[0;32m   (...)\u001b[0m\n\u001b[1;32m    437\u001b[0m \n\u001b[1;32m    438\u001b[0m     \u001b[38;5;66;03m# degree 0 term\u001b[39;00m\n\u001b[1;32m    439\u001b[0m     \u001b[38;5;28;01mif\u001b[39;00m \u001b[38;5;28mself\u001b[39m\u001b[38;5;241m.\u001b[39minclude_bias:\n",
      "\u001b[0;31mMemoryError\u001b[0m: Unable to allocate 36.0 GiB for an array with shape (415258, 11627) and data type float64"
     ]
    }
   ],
   "source": [
    "from sklearn.preprocessing import PolynomialFeatures\n",
    "from sklearn.linear_model import LinearRegression\n",
    "\n",
    "poly = PolynomialFeatures(degree = 5, include_bias=False)\n",
    "\n",
    "poly_features = poly.fit_transform(x_train)\n",
    "\n",
    "poly_reg_model = LinearRegression()\n",
    "poly_reg_model.fit(poly_features, y_train)"
   ]
  },
  {
   "cell_type": "code",
   "execution_count": 31,
   "id": "c2721c41-053b-4459-b959-13b191a0a359",
   "metadata": {},
   "outputs": [
    {
     "data": {
      "text/plain": [
       "6.717961312430494"
      ]
     },
     "execution_count": 31,
     "metadata": {},
     "output_type": "execute_result"
    }
   ],
   "source": [
    "y_predicted = poly_reg_model.predict(poly_features)\n",
    "mean_squared_error(y_train, y_predicted, squared = False)"
   ]
  },
  {
   "cell_type": "markdown",
   "id": "c67b0d97-2d70-4311-bcba-a3ca3495ee45",
   "metadata": {},
   "source": [
    "### PCA"
   ]
  },
  {
   "cell_type": "code",
   "execution_count": 15,
   "id": "6d6559e8-f281-438c-9683-7b863eb13ac9",
   "metadata": {},
   "outputs": [],
   "source": [
    "from sklearn.model_selection import train_test_split\n",
    "\n",
    "X =  df[['epoch_time_norm', 'stop_seq_norm', 'direction_0', 'direction_1',\n",
    "       'vehicle_bus', 'vehicle_metro', 'vehicle_tram', 'line_bit_1',\n",
    "       'line_bit_2', 'line_bit_3', 'line_bit_4', 'line_bit_5', 'line_bit_6',\n",
    "       'line_bit_7']].values\n",
    "\n",
    "y = df[['extra_headway_duration']].values"
   ]
  },
  {
   "cell_type": "code",
   "execution_count": 16,
   "id": "52618a3b-afc4-47bc-9956-ff82dc93d74a",
   "metadata": {},
   "outputs": [
    {
     "name": "stdout",
     "output_type": "stream",
     "text": [
      "Shape before PCA:  (519073, 14)\n",
      "Shape after PCA:  (519073, 6)\n"
     ]
    }
   ],
   "source": [
    "from sklearn.decomposition import PCA\n",
    "\n",
    "pca = PCA(.80)\n",
    "\n",
    "x_pca = pca.fit_transform(X)\n",
    "\n",
    "print('Shape before PCA: ', X.shape)\n",
    "print('Shape after PCA: ', x_pca.shape)"
   ]
  },
  {
   "cell_type": "code",
   "execution_count": 17,
   "id": "05121ed6-5993-44c9-9623-592084a55afa",
   "metadata": {},
   "outputs": [
    {
     "data": {
      "text/plain": [
       "LinearRegression()"
      ]
     },
     "execution_count": 17,
     "metadata": {},
     "output_type": "execute_result"
    }
   ],
   "source": [
    "from sklearn.preprocessing import PolynomialFeatures\n",
    "from sklearn.linear_model import LinearRegression\n",
    "\n",
    "x_train, x_test, y_train, y_test = train_test_split(x_pca, y, test_size = 0.2, random_state = rand_seed, shuffle = True)\n",
    "\n",
    "poly = PolynomialFeatures(degree = 6, include_bias=False)\n",
    "poly_features = poly.fit_transform(x_train)\n",
    "\n",
    "poly_reg_model = LinearRegression()\n",
    "poly_reg_model.fit(poly_features, y_train)"
   ]
  },
  {
   "cell_type": "code",
   "execution_count": 18,
   "id": "bc5265d5-8ce8-47a6-b65e-fdb2484cb0ec",
   "metadata": {
    "tags": []
   },
   "outputs": [],
   "source": [
    "test_features = poly.fit_transform(x_test)\n",
    "y_predict = poly_reg_model.predict(test_features)"
   ]
  },
  {
   "cell_type": "code",
   "execution_count": 19,
   "id": "c2da3702-58ac-4c04-9d66-54591ea48964",
   "metadata": {},
   "outputs": [
    {
     "name": "stdout",
     "output_type": "stream",
     "text": [
      "RMSE: 6.695150\n"
     ]
    }
   ],
   "source": [
    "from sklearn.metrics import mean_squared_error\n",
    "\n",
    "rmse = mean_squared_error(y_test, y_predict, squared=False)\n",
    "print(\"RMSE: %f\" % (rmse))"
   ]
  },
  {
   "cell_type": "code",
   "execution_count": null,
   "id": "fea2f62d-4cd9-4254-b448-f467df73eab1",
   "metadata": {},
   "outputs": [],
   "source": []
  }
 ],
 "metadata": {
  "kernelspec": {
   "display_name": "Python 3 (ipykernel)",
   "language": "python",
   "name": "python3"
  },
  "language_info": {
   "codemirror_mode": {
    "name": "ipython",
    "version": 3
   },
   "file_extension": ".py",
   "mimetype": "text/x-python",
   "name": "python",
   "nbconvert_exporter": "python",
   "pygments_lexer": "ipython3",
   "version": "3.9.12"
  }
 },
 "nbformat": 4,
 "nbformat_minor": 5
}
