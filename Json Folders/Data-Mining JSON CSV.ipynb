{
 "cells": [
  {
   "cell_type": "code",
   "execution_count": 6,
   "id": "2e9cf822-4ab9-4c66-89ad-ee6e7fac0388",
   "metadata": {},
   "outputs": [],
   "source": [
    "#Import Libraries\n",
    "import datetime\n",
    "import json\n",
    "import os\n",
    "import csv\n",
    "import numpy as np\n",
    "import pandas as pd\n",
    "import shapefile\n",
    "import scripthelper\n",
    "\n",
    "from glob import glob \n",
    "from enum import Enum\n",
    "from functools import reduce\n",
    "from itertools import count\n",
    "from operator import add\n",
    "from tqdm.notebook import tqdm\n",
    "from numpy import inf\n",
    "from pathlib import Path\n",
    "from contextlib import contextmanager\n",
    "from typing import Iterable, Dict, Tuple, List"
   ]
  },
  {
   "cell_type": "markdown",
   "id": "6eae28b8-c259-4f2e-9a62-807e9e374815",
   "metadata": {
    "tags": []
   },
   "source": [
    "# -----------------------------------------------------------------\n",
    "# ---------------FUNCTION HELPERS-----------------\n",
    "# -----------------------------------------------------------------"
   ]
  },
  {
   "cell_type": "code",
   "execution_count": null,
   "id": "404586eb-326a-44bd-9775-34a7eb2efdd1",
   "metadata": {},
   "outputs": [],
   "source": [
    "# ---------------------------------------------------------------\n",
    "# ----------------------------CSVs IO----------------------------\n",
    "# ---------------------------------------------------------------\n",
    "\n",
    "@contextmanager\n",
    "def write_csv(path) -> csv.writer:\n",
    "    file = open(path, 'w', encoding='utf8', newline='')\n",
    "    try:\n",
    "        yield csv.writer(file)\n",
    "    finally:\n",
    "        file.close()"
   ]
  },
  {
   "cell_type": "markdown",
   "id": "618dda2d-4d7c-412b-ade3-fb96afa661d8",
   "metadata": {
    "tags": []
   },
   "source": [
    "# -----------------------------------------------------------------\n",
    "# ---------------WORKING WITH JSON FILES-----------------\n",
    "# -----------------------------------------------------------------"
   ]
  },
  {
   "cell_type": "markdown",
   "id": "3e3e4511-67ab-442d-9597-3066ed3448b7",
   "metadata": {},
   "source": [
    "# Get Json path file\n",
    "path = os.getcwd() + '\\\\Project Data-20221104\\\\'+ \"*.json\"\n",
    "str_path = path.replace(\"\\\\\", \"/\") \n",
    "\n",
    "file_json = glob(str_path)\n",
    "file_json[:2]"
   ]
  },
  {
   "cell_type": "markdown",
   "id": "67cc050f-f890-437e-83e6-1a72e869ecc2",
   "metadata": {},
   "source": [
    "# Create .csv for writing\n",
    "vehicle_positions_csv = (os.getcwd() + '\\\\Project Data-20221104\\\\' + \"vehicle_positions_csv.csv\").replace(\"\\\\\", \"/\") \n",
    "print(vehicle_positions_csv)\n",
    "\n",
    "csv_header = ['Timestamp', 'LineId', 'DirectionId', 'DistanceFromPoint', 'PointId']"
   ]
  },
  {
   "cell_type": "markdown",
   "id": "67130644-bfd1-418d-ad58-27276b0f54d9",
   "metadata": {},
   "source": [
    "# Transform JSON to CSV\n",
    "with write_csv(vehicle_positions_csv) as writer:\n",
    "    writer.writerow(csv_header)\n",
    "    for raw_json_path in tqdm(file_json):\n",
    "        file = open(raw_json_path, 'r', encoding='utf8')\n",
    "        data = json.load(file)['data']\n",
    "        file.close()\n",
    "        for time in data:\n",
    "            timestamp = time['time']\n",
    "            for response in time['Responses']:\n",
    "                if response is None:\n",
    "                    # Skip if response is empty\n",
    "                    continue\n",
    "                for line in response['lines']:\n",
    "                    line_id = line['lineId']\n",
    "                    for vehiclePosition in line['vehiclePositions']:\n",
    "                        writer.writerow([\n",
    "                            timestamp,\n",
    "                            line_id,\n",
    "                            vehiclePosition['directionId'],\n",
    "                            vehiclePosition['distanceFromPoint'],\n",
    "                            vehiclePosition['pointId'],\n",
    "                        ])"
   ]
  },
  {
   "cell_type": "markdown",
   "id": "965f270f-f65e-48b1-a7d1-9234607d7a2e",
   "metadata": {},
   "source": [
    "# Read Vehicle Position CSV\n",
    "vehicle_positions_df = pd.read_csv(vehicle_positions_csv)\n",
    "vehicle_positions_df.head()"
   ]
  },
  {
   "cell_type": "code",
   "execution_count": 7,
   "id": "841e45c6-197e-4832-99f9-43a071c23d6f",
   "metadata": {},
   "outputs": [
    {
     "data": {
      "text/html": [
       "<div>\n",
       "<style scoped>\n",
       "    .dataframe tbody tr th:only-of-type {\n",
       "        vertical-align: middle;\n",
       "    }\n",
       "\n",
       "    .dataframe tbody tr th {\n",
       "        vertical-align: top;\n",
       "    }\n",
       "\n",
       "    .dataframe thead th {\n",
       "        text-align: right;\n",
       "    }\n",
       "</style>\n",
       "<table border=\"1\" class=\"dataframe\">\n",
       "  <thead>\n",
       "    <tr style=\"text-align: right;\">\n",
       "      <th></th>\n",
       "      <th>Timestamp</th>\n",
       "      <th>LineId</th>\n",
       "      <th>DirectionId</th>\n",
       "      <th>DistanceFromPoint</th>\n",
       "      <th>PointId</th>\n",
       "    </tr>\n",
       "  </thead>\n",
       "  <tbody>\n",
       "    <tr>\n",
       "      <th>0</th>\n",
       "      <td>1630914886924</td>\n",
       "      <td>1</td>\n",
       "      <td>8161</td>\n",
       "      <td>1</td>\n",
       "      <td>8012</td>\n",
       "    </tr>\n",
       "    <tr>\n",
       "      <th>1</th>\n",
       "      <td>1630914886924</td>\n",
       "      <td>1</td>\n",
       "      <td>8162</td>\n",
       "      <td>0</td>\n",
       "      <td>8142</td>\n",
       "    </tr>\n",
       "    <tr>\n",
       "      <th>2</th>\n",
       "      <td>1630914886924</td>\n",
       "      <td>1</td>\n",
       "      <td>8162</td>\n",
       "      <td>0</td>\n",
       "      <td>8282</td>\n",
       "    </tr>\n",
       "    <tr>\n",
       "      <th>3</th>\n",
       "      <td>1630914886924</td>\n",
       "      <td>1</td>\n",
       "      <td>8731</td>\n",
       "      <td>0</td>\n",
       "      <td>8111</td>\n",
       "    </tr>\n",
       "    <tr>\n",
       "      <th>4</th>\n",
       "      <td>1630914886924</td>\n",
       "      <td>1</td>\n",
       "      <td>8162</td>\n",
       "      <td>1</td>\n",
       "      <td>8062</td>\n",
       "    </tr>\n",
       "  </tbody>\n",
       "</table>\n",
       "</div>"
      ],
      "text/plain": [
       "       Timestamp  LineId  DirectionId  DistanceFromPoint  PointId\n",
       "0  1630914886924       1         8161                  1     8012\n",
       "1  1630914886924       1         8162                  0     8142\n",
       "2  1630914886924       1         8162                  0     8282\n",
       "3  1630914886924       1         8731                  0     8111\n",
       "4  1630914886924       1         8162                  1     8062"
      ]
     },
     "execution_count": 7,
     "metadata": {},
     "output_type": "execute_result"
    }
   ],
   "source": [
    "# Read Vehicle Position CSV Locally\n",
    "vehicle_positions_df = pd.read_csv('vehicle_positions_csv.csv')\n",
    "vehicle_positions_df.head()"
   ]
  },
  {
   "cell_type": "code",
   "execution_count": 8,
   "id": "a9450298-21d5-470b-af3f-3ef7cf1e42a2",
   "metadata": {},
   "outputs": [
    {
     "name": "stdout",
     "output_type": "stream",
     "text": [
      "Data dimension: (19421883, 5)\n",
      "<class 'pandas.core.frame.DataFrame'>\n",
      "RangeIndex: 19421883 entries, 0 to 19421882\n",
      "Data columns (total 5 columns):\n",
      " #   Column             Dtype\n",
      "---  ------             -----\n",
      " 0   Timestamp          int64\n",
      " 1   LineId             int64\n",
      " 2   DirectionId        int64\n",
      " 3   DistanceFromPoint  int64\n",
      " 4   PointId            int64\n",
      "dtypes: int64(5)\n",
      "memory usage: 740.9 MB\n"
     ]
    }
   ],
   "source": [
    "# Vehicle Position data details\n",
    "print(\"Data dimension:\",vehicle_positions_df.shape)\n",
    "vehicle_positions_df.info();"
   ]
  },
  {
   "cell_type": "code",
   "execution_count": 11,
   "id": "4413c2f1-bd21-4a74-9792-69e1a7f3a40c",
   "metadata": {},
   "outputs": [],
   "source": [
    "# Time attribute is the time in milliseconds (unix epoch)\n",
    "# Convert timestamp -> date, hour, day\n",
    "\n",
    "weekdays = ['Monday','Tuesday','Wednesday', 'Thursday','Friday']\n",
    "\n",
    "vehicle_positions_df['Date'] = pd.to_datetime(vehicle_positions_df['Timestamp'], unit='ms')\n",
    "vehicle_positions_df['Time'] = pd.to_datetime(vehicle_positions_df['Timestamp'], unit='ms')\n",
    "vehicle_positions_df['Weekday'] = pd.to_datetime(vehicle_positions_df['Timestamp'], unit='ms')\n",
    "\n",
    "vehicle_positions_df['Date'] = vehicle_positions_df['Date'].dt.strftime(\"%Y-%m-%d\")\n",
    "vehicle_positions_df['Time'] = vehicle_positions_df['Time'].dt.strftime(\"%H:%M:%S\")\n",
    "vehicle_positions_df['Weekday'] = vehicle_positions_df['Weekday'].dt.strftime(\"%A\") \\\n",
    "                    .apply(lambda x: 0 if x in weekdays else 1 if x=='Saturday' else 2 if x=='Sunday' else 3)"
   ]
  },
  {
   "cell_type": "code",
   "execution_count": 12,
   "id": "b86655be-49cc-4a71-8159-898b1c98dfb8",
   "metadata": {},
   "outputs": [],
   "source": [
    "#Write Timestamp convertion to New CSV\n",
    "vehicle_positions_df.to_csv('vehicle_positions_time.csv',mode='w', index=False)"
   ]
  },
  {
   "cell_type": "code",
   "execution_count": 13,
   "id": "dda8fa1a-2d59-429d-adb2-1260b361b459",
   "metadata": {},
   "outputs": [
    {
     "data": {
      "text/html": [
       "<div>\n",
       "<style scoped>\n",
       "    .dataframe tbody tr th:only-of-type {\n",
       "        vertical-align: middle;\n",
       "    }\n",
       "\n",
       "    .dataframe tbody tr th {\n",
       "        vertical-align: top;\n",
       "    }\n",
       "\n",
       "    .dataframe thead th {\n",
       "        text-align: right;\n",
       "    }\n",
       "</style>\n",
       "<table border=\"1\" class=\"dataframe\">\n",
       "  <thead>\n",
       "    <tr style=\"text-align: right;\">\n",
       "      <th></th>\n",
       "      <th>Timestamp</th>\n",
       "      <th>LineId</th>\n",
       "      <th>DirectionId</th>\n",
       "      <th>DistanceFromPoint</th>\n",
       "      <th>PointId</th>\n",
       "      <th>Date</th>\n",
       "      <th>Time</th>\n",
       "      <th>Weekday</th>\n",
       "    </tr>\n",
       "  </thead>\n",
       "  <tbody>\n",
       "    <tr>\n",
       "      <th>0</th>\n",
       "      <td>1630914886924</td>\n",
       "      <td>1</td>\n",
       "      <td>8161</td>\n",
       "      <td>1</td>\n",
       "      <td>8012</td>\n",
       "      <td>2021-09-06</td>\n",
       "      <td>07:54:46</td>\n",
       "      <td>0</td>\n",
       "    </tr>\n",
       "    <tr>\n",
       "      <th>1</th>\n",
       "      <td>1630914886924</td>\n",
       "      <td>1</td>\n",
       "      <td>8162</td>\n",
       "      <td>0</td>\n",
       "      <td>8142</td>\n",
       "      <td>2021-09-06</td>\n",
       "      <td>07:54:46</td>\n",
       "      <td>0</td>\n",
       "    </tr>\n",
       "    <tr>\n",
       "      <th>2</th>\n",
       "      <td>1630914886924</td>\n",
       "      <td>1</td>\n",
       "      <td>8162</td>\n",
       "      <td>0</td>\n",
       "      <td>8282</td>\n",
       "      <td>2021-09-06</td>\n",
       "      <td>07:54:46</td>\n",
       "      <td>0</td>\n",
       "    </tr>\n",
       "    <tr>\n",
       "      <th>3</th>\n",
       "      <td>1630914886924</td>\n",
       "      <td>1</td>\n",
       "      <td>8731</td>\n",
       "      <td>0</td>\n",
       "      <td>8111</td>\n",
       "      <td>2021-09-06</td>\n",
       "      <td>07:54:46</td>\n",
       "      <td>0</td>\n",
       "    </tr>\n",
       "    <tr>\n",
       "      <th>4</th>\n",
       "      <td>1630914886924</td>\n",
       "      <td>1</td>\n",
       "      <td>8162</td>\n",
       "      <td>1</td>\n",
       "      <td>8062</td>\n",
       "      <td>2021-09-06</td>\n",
       "      <td>07:54:46</td>\n",
       "      <td>0</td>\n",
       "    </tr>\n",
       "  </tbody>\n",
       "</table>\n",
       "</div>"
      ],
      "text/plain": [
       "       Timestamp  LineId  DirectionId  DistanceFromPoint  PointId        Date  \\\n",
       "0  1630914886924       1         8161                  1     8012  2021-09-06   \n",
       "1  1630914886924       1         8162                  0     8142  2021-09-06   \n",
       "2  1630914886924       1         8162                  0     8282  2021-09-06   \n",
       "3  1630914886924       1         8731                  0     8111  2021-09-06   \n",
       "4  1630914886924       1         8162                  1     8062  2021-09-06   \n",
       "\n",
       "       Time  Weekday  \n",
       "0  07:54:46        0  \n",
       "1  07:54:46        0  \n",
       "2  07:54:46        0  \n",
       "3  07:54:46        0  \n",
       "4  07:54:46        0  "
      ]
     },
     "execution_count": 13,
     "metadata": {},
     "output_type": "execute_result"
    }
   ],
   "source": [
    "# Read New Vehicle Position CSV\n",
    "vehicle_positions_time = pd.read_csv('vehicle_positions_time.csv')\n",
    "vehicle_positions_time.head(5)"
   ]
  },
  {
   "cell_type": "markdown",
   "id": "e586105a-cd54-426b-9d07-4a2b57bc1ced",
   "metadata": {},
   "source": [
    "## END"
   ]
  },
  {
   "cell_type": "code",
   "execution_count": null,
   "id": "a80a221f-9920-4545-8321-01ae577e0b0e",
   "metadata": {},
   "outputs": [],
   "source": [
    "##LOAD DATA INTO DB using DM_LoadJsonIntoDb"
   ]
  }
 ],
 "metadata": {
  "kernelspec": {
   "display_name": "Python 3 (ipykernel)",
   "language": "python",
   "name": "python3"
  },
  "language_info": {
   "codemirror_mode": {
    "name": "ipython",
    "version": 3
   },
   "file_extension": ".py",
   "mimetype": "text/x-python",
   "name": "python",
   "nbconvert_exporter": "python",
   "pygments_lexer": "ipython3",
   "version": "3.9.7"
  }
 },
 "nbformat": 4,
 "nbformat_minor": 5
}
