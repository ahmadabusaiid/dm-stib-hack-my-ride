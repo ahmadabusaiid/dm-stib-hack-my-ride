{
 "cells": [
  {
   "cell_type": "code",
   "execution_count": 38,
   "id": "6592e187-cc7d-46c0-8684-cb136d02ff57",
   "metadata": {},
   "outputs": [],
   "source": [
    "#Import Libraries\n",
    "import sys, os\n",
    "import psycopg2\n",
    "from psycopg2 import Error\n",
    "from psycopg2.extensions import ISOLATION_LEVEL_AUTOCOMMIT\n",
    "import psycopg2.extras as extras\n",
    "from IPython.display import clear_output\n",
    "import numpy as np\n",
    "import pandas as pd"
   ]
  },
  {
   "cell_type": "code",
   "execution_count": 2,
   "id": "8ef39a8f-f7b0-4daf-854f-3ebf5a8d3c4b",
   "metadata": {},
   "outputs": [],
   "source": [
    "# set up connection variables\n",
    "db_host = \"localhost\"\n",
    "db_port = \"5432\"\n",
    "db_user = \"postgres\"\n",
    "db_pass = \"*********\" #Input Password\n",
    "db_name = \"postgres\"\n",
    "\n",
    "# function to connect with postgres\n",
    "def connect_postgres(db_host, db_port, db_user, db_pass, db_name):\n",
    "    try:\n",
    "        # Connect to an existing database\n",
    "        connection = psycopg2.connect(host = db_host,\n",
    "                                      port = db_port,\n",
    "                                      user = db_user,\n",
    "                                      password = db_pass,\n",
    "                                      database = db_name)\n",
    "        # Set auto-commit\n",
    "        connection.set_isolation_level(ISOLATION_LEVEL_AUTOCOMMIT);\n",
    "        # Create a cursor to perform database operations\n",
    "        cur = connection.cursor()\n",
    "        # Print PostgreSQL details\n",
    "        print(\"PostgreSQL server information\")\n",
    "        print(connection.get_dsn_parameters(), \"\\n\")\n",
    "        # Executing a SQL query\n",
    "        cur.execute(\"SELECT version();\")\n",
    "        # Fetch result\n",
    "        record = cur.fetchone()\n",
    "        print(\"You are connected to - \", record, \"\\n\")\n",
    "\n",
    "    except (Exception, Error) as error:\n",
    "        print(\"Error while connecting to PostgreSQL\", error)\n",
    "    else:\n",
    "        return cur"
   ]
  },
  {
   "cell_type": "code",
   "execution_count": 3,
   "id": "2d18c5a6-7b02-4b8f-9b8f-373147908dff",
   "metadata": {},
   "outputs": [
    {
     "name": "stdout",
     "output_type": "stream",
     "text": [
      "PostgreSQL server information\n",
      "{'user': 'postgres', 'channel_binding': 'prefer', 'dbname': 'postgres', 'host': 'localhost', 'port': '5432', 'options': '', 'sslmode': 'prefer', 'sslcompression': '0', 'sslsni': '1', 'ssl_min_protocol_version': 'TLSv1.2', 'gssencmode': 'disable', 'krbsrvname': 'postgres', 'target_session_attrs': 'any'} \n",
      "\n",
      "You are connected to -  ('PostgreSQL 14.5, compiled by Visual C++ build 1914, 64-bit',) \n",
      "\n"
     ]
    }
   ],
   "source": [
    "# connect to postgres\n",
    "cur = connect_postgres(db_host, db_port, db_user, db_pass, db_name)"
   ]
  },
  {
   "cell_type": "code",
   "execution_count": 4,
   "id": "5b6209fd-08ba-4d18-974b-755e67759d46",
   "metadata": {},
   "outputs": [
    {
     "name": "stdout",
     "output_type": "stream",
     "text": [
      "SQL Status Output:\n",
      " DROP DATABASE\n"
     ]
    }
   ],
   "source": [
    "db_name = \"stib_network\"\n",
    "cur.execute (\n",
    "    F\"\"\" DROP DATABASE IF EXISTS {db_name} WITH (FORCE);\n",
    "    \"\"\"\n",
    ")\n",
    "print(\"SQL Status Output:\\n\", cur.statusmessage)"
   ]
  },
  {
   "cell_type": "code",
   "execution_count": 5,
   "id": "bd84b9a1-ef93-437e-9416-672dbb1c306d",
   "metadata": {},
   "outputs": [
    {
     "name": "stdout",
     "output_type": "stream",
     "text": [
      "SQL Status Output:\n",
      " CREATE DATABASE\n"
     ]
    }
   ],
   "source": [
    "# create db\n",
    "\n",
    "cur.execute(\n",
    "    f\"\"\"\n",
    "\n",
    "    CREATE DATABASE {db_name}\n",
    "        WITH\n",
    "        OWNER = postgres\n",
    "        TEMPLATE = template0\n",
    "        ENCODING = 'UTF8'\n",
    "        CONNECTION LIMIT = -1\n",
    "        IS_TEMPLATE = False;\n",
    "        \n",
    "    \"\"\"\n",
    ")\n",
    "print(\"SQL Status Output:\\n\", cur.statusmessage)"
   ]
  },
  {
   "cell_type": "code",
   "execution_count": 6,
   "id": "47af1777-3593-4486-ae27-d830f54e0bf0",
   "metadata": {},
   "outputs": [
    {
     "name": "stdout",
     "output_type": "stream",
     "text": [
      "PostgreSQL server information\n",
      "{'user': 'postgres', 'channel_binding': 'prefer', 'dbname': 'stib_network', 'host': 'localhost', 'port': '5432', 'options': '', 'sslmode': 'prefer', 'sslcompression': '0', 'sslsni': '1', 'ssl_min_protocol_version': 'TLSv1.2', 'gssencmode': 'disable', 'krbsrvname': 'postgres', 'target_session_attrs': 'any'} \n",
      "\n",
      "You are connected to -  ('PostgreSQL 14.5, compiled by Visual C++ build 1914, 64-bit',) \n",
      "\n"
     ]
    }
   ],
   "source": [
    "# connect to new database\n",
    "cur = connect_postgres(db_host, db_port, db_user, db_pass, db_name)"
   ]
  },
  {
   "cell_type": "code",
   "execution_count": 59,
   "id": "41dff6b3-02d9-4540-9d78-30590d188e91",
   "metadata": {},
   "outputs": [
    {
     "name": "stdout",
     "output_type": "stream",
     "text": [
      "SQL Status Output: \n",
      " ALTER DATABASE\n"
     ]
    }
   ],
   "source": [
    "## ALTER DATABASE OWNER\n",
    "\n",
    "cur.execute (F\"\"\" \n",
    "ALTER DATABASE stib_network OWNER TO {db_user};\"\"\")\n",
    "\n",
    "print(\"SQL Status Output: \\n\", cur.statusmessage)"
   ]
  },
  {
   "cell_type": "code",
   "execution_count": 8,
   "id": "cbebbd30-55b8-4d45-a14e-2811c5d1333a",
   "metadata": {},
   "outputs": [
    {
     "name": "stdout",
     "output_type": "stream",
     "text": [
      "SQL Status Output: \n",
      " SET\n"
     ]
    }
   ],
   "source": [
    "# SET client encoding\n",
    "\n",
    "cur.execute(\"SET statement_timeout = 0; \\\n",
    "             SET lock_timeout = 0; \\\n",
    "             SET idle_in_transaction_session_timeout = 0; \\\n",
    "             SET client_encoding = 'UTF8'; \\\n",
    "             SET standard_conforming_strings = on; \\\n",
    "             SELECT pg_catalog.set_config('search_path', '', false); \\\n",
    "             SET check_function_bodies = false; \\\n",
    "             SET client_min_messages = warning; \\\n",
    "             SET row_security = off;\"\n",
    ")\n",
    "\n",
    "print(\"SQL Status Output: \\n\", cur.statusmessage)"
   ]
  },
  {
   "cell_type": "code",
   "execution_count": 56,
   "id": "dc233c5e-ddb2-45b5-93ec-4b3e150190b3",
   "metadata": {},
   "outputs": [],
   "source": [
    "#creating relation\n",
    "db_table = \"vehicle_position\"\n",
    "\n",
    "# Create Schema\n",
    "cur.execute (f\"\"\"\n",
    "DROP TABLE IF EXISTS public.{db_table};\n",
    "CREATE TABLE IF NOT EXISTS public.{db_table}\n",
    "(Timestamp varchar(25) NOT NULL,\n",
    "LineId varchar(15),\n",
    "DirectionId varchar(15),\n",
    "DistanceFromPoint varchar(15),\n",
    "PointId varchar(15),\n",
    "Date date NULL,\n",
    "Time varchar(15) NULL,\n",
    "Weekday INT NULL);\"\"\")\n",
    "\n",
    "print(\"SQL Status Output: \\n\", cur.statusmessage)"
   ]
  },
  {
   "cell_type": "code",
   "execution_count": 52,
   "id": "f4b9e91e-eac3-404b-be7f-59c0da4f8598",
   "metadata": {},
   "outputs": [
    {
     "data": {
      "text/html": [
       "<div>\n",
       "<style scoped>\n",
       "    .dataframe tbody tr th:only-of-type {\n",
       "        vertical-align: middle;\n",
       "    }\n",
       "\n",
       "    .dataframe tbody tr th {\n",
       "        vertical-align: top;\n",
       "    }\n",
       "\n",
       "    .dataframe thead th {\n",
       "        text-align: right;\n",
       "    }\n",
       "</style>\n",
       "<table border=\"1\" class=\"dataframe\">\n",
       "  <thead>\n",
       "    <tr style=\"text-align: right;\">\n",
       "      <th></th>\n",
       "      <th>Timestamp</th>\n",
       "      <th>LineId</th>\n",
       "      <th>DirectionId</th>\n",
       "      <th>DistanceFromPoint</th>\n",
       "      <th>PointId</th>\n",
       "      <th>Date</th>\n",
       "      <th>Time</th>\n",
       "      <th>Weekday</th>\n",
       "    </tr>\n",
       "  </thead>\n",
       "  <tbody>\n",
       "    <tr>\n",
       "      <th>0</th>\n",
       "      <td>1630914886924</td>\n",
       "      <td>1</td>\n",
       "      <td>8161</td>\n",
       "      <td>1</td>\n",
       "      <td>8012</td>\n",
       "      <td>2021-09-06</td>\n",
       "      <td>07:54:46</td>\n",
       "      <td>0</td>\n",
       "    </tr>\n",
       "    <tr>\n",
       "      <th>1</th>\n",
       "      <td>1630914886924</td>\n",
       "      <td>1</td>\n",
       "      <td>8162</td>\n",
       "      <td>0</td>\n",
       "      <td>8142</td>\n",
       "      <td>2021-09-06</td>\n",
       "      <td>07:54:46</td>\n",
       "      <td>0</td>\n",
       "    </tr>\n",
       "    <tr>\n",
       "      <th>2</th>\n",
       "      <td>1630914886924</td>\n",
       "      <td>1</td>\n",
       "      <td>8162</td>\n",
       "      <td>0</td>\n",
       "      <td>8282</td>\n",
       "      <td>2021-09-06</td>\n",
       "      <td>07:54:46</td>\n",
       "      <td>0</td>\n",
       "    </tr>\n",
       "    <tr>\n",
       "      <th>3</th>\n",
       "      <td>1630914886924</td>\n",
       "      <td>1</td>\n",
       "      <td>8731</td>\n",
       "      <td>0</td>\n",
       "      <td>8111</td>\n",
       "      <td>2021-09-06</td>\n",
       "      <td>07:54:46</td>\n",
       "      <td>0</td>\n",
       "    </tr>\n",
       "    <tr>\n",
       "      <th>4</th>\n",
       "      <td>1630914886924</td>\n",
       "      <td>1</td>\n",
       "      <td>8162</td>\n",
       "      <td>1</td>\n",
       "      <td>8062</td>\n",
       "      <td>2021-09-06</td>\n",
       "      <td>07:54:46</td>\n",
       "      <td>0</td>\n",
       "    </tr>\n",
       "  </tbody>\n",
       "</table>\n",
       "</div>"
      ],
      "text/plain": [
       "       Timestamp  LineId  DirectionId  DistanceFromPoint  PointId        Date  \\\n",
       "0  1630914886924       1         8161                  1     8012  2021-09-06   \n",
       "1  1630914886924       1         8162                  0     8142  2021-09-06   \n",
       "2  1630914886924       1         8162                  0     8282  2021-09-06   \n",
       "3  1630914886924       1         8731                  0     8111  2021-09-06   \n",
       "4  1630914886924       1         8162                  1     8062  2021-09-06   \n",
       "\n",
       "       Time  Weekday  \n",
       "0  07:54:46        0  \n",
       "1  07:54:46        0  \n",
       "2  07:54:46        0  \n",
       "3  07:54:46        0  \n",
       "4  07:54:46        0  "
      ]
     },
     "execution_count": 52,
     "metadata": {},
     "output_type": "execute_result"
    }
   ],
   "source": [
    "# Read New Vehicle Position CSV\n",
    "vehicle_positions_time = pd.read_csv('vehicle_positions_time.csv')\n",
    "vehicle_positions_time.head(5)"
   ]
  },
  {
   "cell_type": "code",
   "execution_count": 57,
   "id": "15a7cae3-010d-450a-a495-4b79817fdfb7",
   "metadata": {},
   "outputs": [],
   "source": [
    "# function to insert the data from dataframe to db table for each case\n",
    "\n",
    "def insert_df_into_db_table(df, table_name):\n",
    "  \n",
    "    tuples = [tuple(x) for x in df.to_numpy()]\n",
    "    cols = ','.join(list(df.columns))\n",
    "    query = \"INSERT INTO %s(%s) VALUES %%s\" % (table_name, cols)\n",
    "    try:\n",
    "        extras.execute_values(cur, query, tuples)\n",
    "    except (Exception, psycopg2.DatabaseError) as error:\n",
    "        print(\"Insert Error: %s\" % error)\n",
    "    else:\n",
    "        print(f'DB table {table_name} has been populated')"
   ]
  },
  {
   "cell_type": "code",
   "execution_count": 58,
   "id": "17dfb0b1-1dcd-4dbd-b9d2-49d08ed18f5e",
   "metadata": {},
   "outputs": [
    {
     "name": "stdout",
     "output_type": "stream",
     "text": [
      "DB table public.vehicle_position has been populated\n"
     ]
    }
   ],
   "source": [
    "# apply function to insert the data from dataframe to db table for each case\n",
    "\n",
    "insert_df_into_db_table(vehicle_positions_time, 'public.vehicle_position')"
   ]
  },
  {
   "cell_type": "markdown",
   "id": "e9407d20-d1cd-44de-9911-42108e249801",
   "metadata": {},
   "source": [
    "## END"
   ]
  }
 ],
 "metadata": {
  "kernelspec": {
   "display_name": "Python 3 (ipykernel)",
   "language": "python",
   "name": "python3"
  },
  "language_info": {
   "codemirror_mode": {
    "name": "ipython",
    "version": 3
   },
   "file_extension": ".py",
   "mimetype": "text/x-python",
   "name": "python",
   "nbconvert_exporter": "python",
   "pygments_lexer": "ipython3",
   "version": "3.9.7"
  }
 },
 "nbformat": 4,
 "nbformat_minor": 5
}
