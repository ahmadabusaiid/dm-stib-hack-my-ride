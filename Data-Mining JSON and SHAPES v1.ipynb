{
 "cells": [
  {
   "cell_type": "code",
   "execution_count": 1,
   "id": "2e9cf822-4ab9-4c66-89ad-ee6e7fac0388",
   "metadata": {},
   "outputs": [],
   "source": [
    "#Import Libraries\n",
    "import datetime\n",
    "import json\n",
    "import os\n",
    "import csv\n",
    "import numpy as np\n",
    "import pandas as pd\n",
    "import shapefile\n",
    "import scripthelper\n",
    "\n",
    "from glob import glob\n",
    "from enum import Enum\n",
    "from functools import reduce\n",
    "from itertools import count\n",
    "from operator import add\n",
    "from tqdm.notebook import tqdm\n",
    "from numpy import inf\n",
    "from pathlib import Path\n",
    "from contextlib import contextmanager\n",
    "from math import radians, cos, sin, asin, sqrt\n",
    "from typing import Iterable, Dict, Tuple, List"
   ]
  },
  {
   "cell_type": "markdown",
   "id": "6eae28b8-c259-4f2e-9a62-807e9e374815",
   "metadata": {
    "tags": []
   },
   "source": [
    "# -----------------------------------------------------------------\n",
    "# ---------------FUNCTION HELPERS-----------------\n",
    "# -----------------------------------------------------------------"
   ]
  },
  {
   "cell_type": "code",
   "execution_count": 2,
   "id": "404586eb-326a-44bd-9775-34a7eb2efdd1",
   "metadata": {},
   "outputs": [],
   "source": [
    "# ---------------------------------------------------------------\n",
    "# ------------------------Lat-Lon distance------------------------\n",
    "# ---------------------------------------------------------------\n",
    "\n",
    "\n",
    "def distance(lat1, lon1, lat2, lon2):\n",
    "    # The math module contains a function named\n",
    "    # radians which converts from degrees to radians.\n",
    "    lon1 = radians(float(lon1))\n",
    "    lon2 = radians(float(lon2))\n",
    "    lat1 = radians(float(lat1))\n",
    "    lat2 = radians(float(lat2))\n",
    "\n",
    "    # Haversine formula\n",
    "    dlon = lon2 - lon1\n",
    "    dlat = lat2 - lat1\n",
    "    a = sin(dlat / 2) ** 2 + cos(lat1) * cos(lat2) * sin(dlon / 2) ** 2\n",
    "\n",
    "    c = 2 * asin(sqrt(a))\n",
    "\n",
    "    # Radius of earth in kilometers. Use 3956 for miles\n",
    "    r = 6371\n",
    "\n",
    "    # calculate the result\n",
    "    return c * r\n",
    "\n",
    "\n",
    "# ---------------------------------------------------------------\n",
    "# ----------------------------CSVs IO----------------------------\n",
    "# ---------------------------------------------------------------\n",
    "\n",
    "\n",
    "def read_csv_list(path, as_dict=False):\n",
    "    with open(path, 'r', encoding='utf8') as file:\n",
    "        return list((csv.DictReader if as_dict else csv.reader)(file))\n",
    "\n",
    "\n",
    "def read_csv_stream(path, as_dict=False, skip_first=True):\n",
    "    with open(path, 'r', encoding='utf8') as file:\n",
    "        reader = (csv.DictReader if as_dict else csv.reader)(file)\n",
    "        if skip_first:\n",
    "            next(reader)\n",
    "        for line in reader:\n",
    "            yield line\n",
    "\n",
    "\n",
    "def get_csv_writer(path):\n",
    "    file = open(path, 'w', encoding='utf8', newline='')\n",
    "    return csv.writer(file), file\n",
    "\n",
    "\n",
    "@contextmanager\n",
    "def write_csv(path) -> csv.writer:\n",
    "    file = open(path, 'w', encoding='utf8', newline='')\n",
    "    try:\n",
    "        yield csv.writer(file)\n",
    "    finally:\n",
    "        file.close()\n",
    "\n",
    "\n",
    "# ---------------------------------------------------------------\n",
    "# -----------------------Line manipulation-----------------------\n",
    "# ---------------------------------------------------------------\n",
    "\n",
    "def group_line_stops(line_stops: Iterable[str]) -> Dict[str, Tuple[List[List[str]], List[List[str]]]]:\n",
    "    line_stops_map = {}\n",
    "    for stop in line_stops:\n",
    "        line_id = str(int(stop[0][0:-1]))\n",
    "        direction = int(stop[1]) - 1\n",
    "        if line_id not in line_stops_map:\n",
    "            line_stops_map[line_id] = ([], [])\n",
    "        line_stops_map[line_id][direction].append(stop)\n",
    "    for line, directions in line_stops_map.items():\n",
    "        for direction in directions:\n",
    "            direction.sort(key=lambda stop: int(stop[-1]))\n",
    "    return line_stops_map"
   ]
  },
  {
   "cell_type": "markdown",
   "id": "618dda2d-4d7c-412b-ade3-fb96afa661d8",
   "metadata": {
    "tags": []
   },
   "source": [
    "# -----------------------------------------------------------------\n",
    "# ---------------WORKING WITH JSON FILES-----------------\n",
    "# -----------------------------------------------------------------"
   ]
  },
  {
   "cell_type": "code",
   "execution_count": 3,
   "id": "526e76c4-15e8-4788-9bf2-e0420d59392f",
   "metadata": {},
   "outputs": [
    {
     "data": {
      "text/plain": [
       "['C:/Users/chibo/OneDrive/Documents/ULB schooling/DM (INFO-H-423)/Project Files/dm-stib-hack-my-ride-main/Project Data-20221104\\\\vehiclePosition01.json',\n",
       " 'C:/Users/chibo/OneDrive/Documents/ULB schooling/DM (INFO-H-423)/Project Files/dm-stib-hack-my-ride-main/Project Data-20221104\\\\vehiclePosition02.json']"
      ]
     },
     "execution_count": 3,
     "metadata": {},
     "output_type": "execute_result"
    }
   ],
   "source": [
    "# Get Json path file\n",
    "path = os.getcwd() + '\\\\Project Data-20221104\\\\'+ \"*.json\"\n",
    "str_path = path.replace(\"\\\\\", \"/\") \n",
    "\n",
    "file_json = glob(str_path)\n",
    "file_json[:2]"
   ]
  },
  {
   "cell_type": "code",
   "execution_count": 4,
   "id": "b4566bc9-e1b7-476d-aafd-d3954de26d9b",
   "metadata": {},
   "outputs": [
    {
     "name": "stdout",
     "output_type": "stream",
     "text": [
      "C:/Users/chibo/OneDrive/Documents/ULB schooling/DM (INFO-H-423)/Project Files/dm-stib-hack-my-ride-main/Project Data-20221104/vehicle_positions_csv.csv\n"
     ]
    }
   ],
   "source": [
    "# Create .csv for writing\n",
    "vehicle_positions_csv = (os.getcwd() + '\\\\Project Data-20221104\\\\' + \"vehicle_positions_csv.csv\").replace(\"\\\\\", \"/\") \n",
    "print(vehicle_positions_csv)\n",
    "\n",
    "csv_header = ['Timestamp', 'LineId', 'DirectionId', 'DistanceFromPoint', 'PointId']"
   ]
  },
  {
   "cell_type": "code",
   "execution_count": 5,
   "id": "f88b75dd-d2de-4991-aa12-bb36a0b74588",
   "metadata": {},
   "outputs": [
    {
     "data": {
      "application/vnd.jupyter.widget-view+json": {
       "model_id": "bc1cd659052b4068aa4ac0b921a6c271",
       "version_major": 2,
       "version_minor": 0
      },
      "text/plain": [
       "  0%|          | 0/13 [00:00<?, ?it/s]"
      ]
     },
     "metadata": {},
     "output_type": "display_data"
    }
   ],
   "source": [
    "# Transform JSON to CSV\n",
    "with write_csv(vehicle_positions_csv) as writer:\n",
    "    writer.writerow(csv_header)\n",
    "    for raw_json_path in tqdm(file_json):\n",
    "        file = open(raw_json_path, 'r', encoding='utf8')\n",
    "        data = json.load(file)['data']\n",
    "        file.close()\n",
    "        for time in data:\n",
    "            timestamp = time['time']\n",
    "            for response in time['Responses']:\n",
    "                if response is None:\n",
    "                    # Skip if response is empty\n",
    "                    continue\n",
    "                for line in response['lines']:\n",
    "                    line_id = line['lineId']\n",
    "                    for vehiclePosition in line['vehiclePositions']:\n",
    "                        writer.writerow([\n",
    "                            timestamp,\n",
    "                            line_id,\n",
    "                            vehiclePosition['directionId'],\n",
    "                            vehiclePosition['distanceFromPoint'],\n",
    "                            vehiclePosition['pointId'],\n",
    "                        ])"
   ]
  },
  {
   "cell_type": "code",
   "execution_count": 6,
   "id": "8ad9a808-d861-41ce-b696-89f58c1bc2fc",
   "metadata": {},
   "outputs": [
    {
     "data": {
      "text/html": [
       "<div>\n",
       "<style scoped>\n",
       "    .dataframe tbody tr th:only-of-type {\n",
       "        vertical-align: middle;\n",
       "    }\n",
       "\n",
       "    .dataframe tbody tr th {\n",
       "        vertical-align: top;\n",
       "    }\n",
       "\n",
       "    .dataframe thead th {\n",
       "        text-align: right;\n",
       "    }\n",
       "</style>\n",
       "<table border=\"1\" class=\"dataframe\">\n",
       "  <thead>\n",
       "    <tr style=\"text-align: right;\">\n",
       "      <th></th>\n",
       "      <th>Timestamp</th>\n",
       "      <th>LineId</th>\n",
       "      <th>DirectionId</th>\n",
       "      <th>DistanceFromPoint</th>\n",
       "      <th>PointId</th>\n",
       "    </tr>\n",
       "  </thead>\n",
       "  <tbody>\n",
       "    <tr>\n",
       "      <th>0</th>\n",
       "      <td>1630914886924</td>\n",
       "      <td>1</td>\n",
       "      <td>8161</td>\n",
       "      <td>1</td>\n",
       "      <td>8012</td>\n",
       "    </tr>\n",
       "    <tr>\n",
       "      <th>1</th>\n",
       "      <td>1630914886924</td>\n",
       "      <td>1</td>\n",
       "      <td>8162</td>\n",
       "      <td>0</td>\n",
       "      <td>8142</td>\n",
       "    </tr>\n",
       "    <tr>\n",
       "      <th>2</th>\n",
       "      <td>1630914886924</td>\n",
       "      <td>1</td>\n",
       "      <td>8162</td>\n",
       "      <td>0</td>\n",
       "      <td>8282</td>\n",
       "    </tr>\n",
       "    <tr>\n",
       "      <th>3</th>\n",
       "      <td>1630914886924</td>\n",
       "      <td>1</td>\n",
       "      <td>8731</td>\n",
       "      <td>0</td>\n",
       "      <td>8111</td>\n",
       "    </tr>\n",
       "    <tr>\n",
       "      <th>4</th>\n",
       "      <td>1630914886924</td>\n",
       "      <td>1</td>\n",
       "      <td>8162</td>\n",
       "      <td>1</td>\n",
       "      <td>8062</td>\n",
       "    </tr>\n",
       "  </tbody>\n",
       "</table>\n",
       "</div>"
      ],
      "text/plain": [
       "       Timestamp  LineId  DirectionId  DistanceFromPoint  PointId\n",
       "0  1630914886924       1         8161                  1     8012\n",
       "1  1630914886924       1         8162                  0     8142\n",
       "2  1630914886924       1         8162                  0     8282\n",
       "3  1630914886924       1         8731                  0     8111\n",
       "4  1630914886924       1         8162                  1     8062"
      ]
     },
     "execution_count": 6,
     "metadata": {},
     "output_type": "execute_result"
    }
   ],
   "source": [
    "# Read Vehicle Position CSV\n",
    "vehicle_positions_df = pd.read_csv(vehicle_positions_csv)\n",
    "vehicle_positions_df.head()"
   ]
  },
  {
   "cell_type": "code",
   "execution_count": 7,
   "id": "a9450298-21d5-470b-af3f-3ef7cf1e42a2",
   "metadata": {},
   "outputs": [
    {
     "name": "stdout",
     "output_type": "stream",
     "text": [
      "Data dimension: (19421883, 5)\n",
      "<class 'pandas.core.frame.DataFrame'>\n",
      "RangeIndex: 19421883 entries, 0 to 19421882\n",
      "Data columns (total 5 columns):\n",
      " #   Column             Dtype\n",
      "---  ------             -----\n",
      " 0   Timestamp          int64\n",
      " 1   LineId             int64\n",
      " 2   DirectionId        int64\n",
      " 3   DistanceFromPoint  int64\n",
      " 4   PointId            int64\n",
      "dtypes: int64(5)\n",
      "memory usage: 740.9 MB\n"
     ]
    }
   ],
   "source": [
    "# Vehicle Position data details\n",
    "print(\"Data dimension:\",vehicle_positions_df.shape)\n",
    "vehicle_positions_df.info();"
   ]
  }
 ],
 "metadata": {
  "kernelspec": {
   "display_name": "Python 3 (ipykernel)",
   "language": "python",
   "name": "python3"
  },
  "language_info": {
   "codemirror_mode": {
    "name": "ipython",
    "version": 3
   },
   "file_extension": ".py",
   "mimetype": "text/x-python",
   "name": "python",
   "nbconvert_exporter": "python",
   "pygments_lexer": "ipython3",
   "version": "3.9.7"
  }
 },
 "nbformat": 4,
 "nbformat_minor": 5
}
